{
 "cells": [
  {
   "cell_type": "code",
   "execution_count": 1,
   "id": "d3e5cd41-ae31-4db3-a863-b40bfd932373",
   "metadata": {},
   "outputs": [],
   "source": [
    "# Install Anaconda , using anaconda navigator we select Jupyter notebook for saving codes and making notebooks.\n",
    "#We first created a folder and then made a file (.ipynb) with in that folder by selecting python3 (ipykernel)\n",
    "# Jupyter notebook has more options and more utility of the available options than Visual studio code\n",
    "#markdown option should be selected for making headings\n",
    "# m for mark down, y for code, ** for bold and * for italic, shift + click to select cells and then run, ctrl+Enter\n",
    "# C:\\Users\\Lenovo Legion\\Documents\\Jupyter_ notebook\n",
    "# Run cell is ctrl+Enter\n",
    "# keyboard shortcuts ctrl+shift+H"
   ]
  },
  {
   "cell_type": "markdown",
   "id": "dcd1e6fc-b568-44a1-93fb-5dcd66f5fcfe",
   "metadata": {},
   "source": [
    "# Python ka chilla with #baba_Aammar\n",
    "## How to use Jupyter note book\n",
    "### Basics of Python\n",
    "1- My first program\n",
    "\n",
    "2- My second program"
   ]
  },
  {
   "cell_type": "markdown",
   "id": "41d99205-c9e0-456c-aca3-3afc42c6441b",
   "metadata": {},
   "source": [
    "**01_First_Program**"
   ]
  },
  {
   "cell_type": "code",
   "execution_count": 4,
   "id": "f29e1d9c-e063-4c79-94a0-f17adf0d1a2b",
   "metadata": {
    "scrolled": true
   },
   "outputs": [
    {
     "name": "stdout",
     "output_type": "stream",
     "text": [
      "5\n",
      "2+3\n",
      "python_with_AH\n",
      "this is my first program\n",
      "-1\n",
      "2\n"
     ]
    }
   ],
   "source": [
    "# 01_First_Program\n",
    "print(2+3)\n",
    "print(\"2+3\")\n",
    "print(\"python_with_AH\")\n",
    "print(\"this is my first program\")\n",
    "print(2+3-6)\n",
    "print(1+1)"
   ]
  },
  {
   "cell_type": "markdown",
   "id": "74cbd1b6-59c4-4fb8-8c32-f96df2ac60c9",
   "metadata": {},
   "source": [
    "**02_operators**"
   ]
  },
  {
   "cell_type": "code",
   "execution_count": 6,
   "id": "ad84f379-dcee-40c8-b8fe-761d4e332105",
   "metadata": {
    "scrolled": true
   },
   "outputs": [
    {
     "name": "stdout",
     "output_type": "stream",
     "text": [
      "4\n",
      "1\n",
      "25\n",
      "10.0\n",
      "1\n",
      "10\n",
      "8\n",
      "0.5\n",
      "6.5\n"
     ]
    }
   ],
   "source": [
    "print(2+2)\n",
    "print(3-2)\n",
    "print(5*5)\n",
    "print(20/2) #for floating numbers with decimels like 3.0\n",
    "print(13%2) #modulus operator/variable\n",
    "print(20//2) # for whole number like 3 without .0 or any other decimels\n",
    "print(2**3)\n",
    "print(3/6)\n",
    "print(3**2/2*3/3+6-4) "
   ]
  },
  {
   "cell_type": "markdown",
   "id": "cae4b7fb-1a25-44bc-8cb2-a623c3923dbb",
   "metadata": {},
   "source": [
    "*PEMDAS paranthesis, Exponents, Multiply, Divide, Addition, substraction (sequence from left to right MD/AS)*"
   ]
  },
  {
   "cell_type": "markdown",
   "id": "69db522a-adcc-4afb-af90-01cb49fba856",
   "metadata": {},
   "source": [
    "**3_strings**"
   ]
  },
  {
   "cell_type": "code",
   "execution_count": 9,
   "id": "4bc33545-49d7-46bf-962a-12f3293d594e",
   "metadata": {
    "scrolled": true
   },
   "outputs": [
    {
     "name": "stdout",
     "output_type": "stream",
     "text": [
      "python_with_AH\n",
      "this is my first program\n",
      "test for single quotes\n",
      "Test for Double quotes\n",
      "    test for triple quotes   ?????\n",
      "double strings in case of apostrophies cases like he's or what's up otherwise the program will be consfused and stop at apostrophies  !!!!!!!!!!!!\n",
      "What's up\n",
      "He said, \"I am sick today.\"\n"
     ]
    }
   ],
   "source": [
    "print(\"python_with_AH\")\n",
    "print(\"this is my first program\")\n",
    "print('test for single quotes')\n",
    "print(\"Test for Double quotes\")\n",
    "print('''    test for triple quotes   ?????''')\n",
    "print(\"double strings in case of apostrophies cases like he's or what's up otherwise the program will be consfused and stop at apostrophies  !!!!!!!!!!!!\")\n",
    "print(\"What's up\") # space outside inverted commas (string) has no impact on output but with in strings will have.\n",
    "\n",
    "print('''He said, \"I am sick today.\"''')\n",
    "# print(\"He said, \"I am sick today.\"\") This gives syntax error as Python cannot read this in double quotes"
   ]
  },
  {
   "cell_type": "markdown",
   "id": "5b3aa2c2-df26-4ca0-884c-1263944be8c2",
   "metadata": {},
   "source": [
    "**4_Comments**\n",
    "\n",
    "The shortcut to comments is **ctrl+/**"
   ]
  },
  {
   "cell_type": "code",
   "execution_count": 11,
   "id": "ed78a3ea-6a49-4d85-8d75-05df7f573f18",
   "metadata": {
    "scrolled": true
   },
   "outputs": [
    {
     "name": "stdout",
     "output_type": "stream",
     "text": [
      "How are you?\n",
      "We are learnig python with Aammar\n",
      "8\n"
     ]
    }
   ],
   "source": [
    "print(\"How are you?\") #press ctrl+/ to comment out\n",
    "print(\"We are learnig python with Aammar\") #print a string\n",
    "print(2+6) #print operators function with numbers\n",
    "#comments are useful to refer back the code\n",
    "\n"
   ]
  },
  {
   "cell_type": "markdown",
   "id": "5ed8d6ea-b2e1-4978-9274-3efd1a00f6d4",
   "metadata": {},
   "source": [
    "*to run interpreter press ctrl+shift+P* "
   ]
  },
  {
   "cell_type": "markdown",
   "id": "9295e3a1-5557-44b3-a0d4-0dd29401f8c1",
   "metadata": {},
   "source": [
    "**05_Variables**"
   ]
  },
  {
   "cell_type": "code",
   "execution_count": 14,
   "id": "c7a621f7-08af-4510-bbd7-ad09b88bcb52",
   "metadata": {},
   "outputs": [
    {
     "name": "stdout",
     "output_type": "stream",
     "text": [
      "5\n",
      "We are learning python with Aammar\n",
      "15\n",
      "<class 'int'>\n",
      "<class 'str'>\n",
      "<class 'int'>\n",
      "8\n",
      "8 <class 'int'>\n"
     ]
    }
   ],
   "source": [
    "#Variables: objects containing specific values\n",
    "x = 5 #numeric/integer variable (type int)\n",
    "print(x)\n",
    "y=\"We are learning python with Aammar\" #string variable (type str)\n",
    "print(y)\n",
    "\n",
    "x=x+10 # same as x=15 as in decending order from up to down the code/variables can be changed or updated\n",
    "print(x)\n",
    "\n",
    "#types/class of variables \n",
    "# x=str(x)\n",
    "type(x)\n",
    "type(y)\n",
    "print(type(x))\n",
    "print(type(y)) #print must be used for showing the commands in output, otherwise don't use print like in type(x) or type(y) above.\n",
    "\n",
    "# Rules to assign variables\n",
    "# 1- The variable should contain letters, numbers or underscores\n",
    "# 2- Do not start with numbers like 1x,2y etc.\n",
    "# 3- Spaces are not allowed\n",
    "# 4- Do not use keywords used in python functions(google for list of keywords in python)\n",
    "# 5- Short and descriptive variable names\n",
    "# 6- Case sensitive (Lowercase, uppercase letters, better to use lowercase) \n",
    "\n",
    "\n",
    "fruit_basket= \"Mangoes\", \"oranges\" # 2 separate string # class tuple\n",
    "fruit_basket= \"Mangoes, oranges\" # in 1 string\n",
    "fruit_basket= 8 # without string # fruit basket is used thrice the latest one is in output unless commented out\n",
    "\n",
    "type(fruit_basket)\n",
    "print(type(fruit_basket))\n",
    "\n",
    "# fruit_basket=\"Mangoes\"\n",
    "# del fruit_basket #this has nullified all the fruit baskets above as it is latest command than the previous one\n",
    "print(fruit_basket) #print should also be after variable change\n",
    "# print(type(fruit_basket)) #print type should also be after variable change\n",
    "print(fruit_basket, type(fruit_basket))"
   ]
  },
  {
   "cell_type": "markdown",
   "id": "509d07e9-0133-4dcb-a78b-24c49a02065b",
   "metadata": {},
   "source": [
    "**06_input_variable**"
   ]
  },
  {
   "cell_type": "code",
   "execution_count": 16,
   "id": "5c788597-126a-498b-bb69-33e668c0b527",
   "metadata": {},
   "outputs": [
    {
     "name": "stdin",
     "output_type": "stream",
     "text": [
      "What is your name?  Arslan\n",
      "How old are you?  40\n"
     ]
    },
    {
     "name": "stdout",
     "output_type": "stream",
     "text": [
      "Hello! Arslan You are still young\n"
     ]
    }
   ],
   "source": [
    "# fruit_basket=\"Mangoes\"\n",
    "# print(fruit_basket)\n",
    "\n",
    "#we use input function to define \n",
    "# fruit_basket=input(\"What is your favourite fruit? \")\n",
    "# print(fruit_basket)\n",
    "\n",
    "#input function of 2nd stage\n",
    "# name= input(\"What is your name? \")\n",
    "# greetings= \"hello!\"\n",
    "# print(greetings, name)\n",
    "\n",
    "# Another way of stage 2 input function\n",
    "# name= input(\"What is your name? \")\n",
    "# print(\"Hello!\", name)\n",
    "\n",
    "#3rd stage input function\n",
    "# name= input(\"What is your name? \")\n",
    "# Age= input(\"How old are you? \")\n",
    "# greetings= \"Hello!\"\n",
    "\n",
    "# print(greetings, name, \"You are still young\")\n",
    "\n",
    "name= input(\"What is your name? \")\n",
    "Age= input(\"How old are you? \")\n",
    "\n",
    "print(\"Hello!\", name, \"You are still young\") # print(\"Hello!\", name, \", You are still young\") can be comma used etc"
   ]
  },
  {
   "cell_type": "markdown",
   "id": "38b39064-4dd0-4db4-9cbf-7ba90b837aa4",
   "metadata": {},
   "source": [
    "**07_conditional_logics**"
   ]
  },
  {
   "cell_type": "code",
   "execution_count": 18,
   "id": "404166fa-835f-4257-a604-db1094b3e60c",
   "metadata": {},
   "outputs": [
    {
     "name": "stdin",
     "output_type": "stream",
     "text": [
      "How old is basim?  5\n"
     ]
    },
    {
     "name": "stdout",
     "output_type": "stream",
     "text": [
      "<class 'int'>\n",
      "True\n"
     ]
    }
   ],
   "source": [
    "# Logical operators are either \"true or false\" or \"yes or no\" or \"0 or 1\"\n",
    "# equal to                              ==\n",
    "# not equal to                          !=  \n",
    "# less than                             <\n",
    "# greater than                          >\n",
    "# less than and equal to                <=\n",
    "# greater than and equal to             >=\n",
    "\n",
    "#is 4 equal to 4\n",
    "# print(4==4)\n",
    "# print(4!=4)\n",
    "# print(4>3)\n",
    "# print(3<6)\n",
    "# print(3<=5)\n",
    "# print(5>=4)\n",
    "\n",
    "#application of logical operators \n",
    "# Basim_age= 4\n",
    "# age_at_school= 5\n",
    "# print(Basim_age==age_at_school)\n",
    "\n",
    "#input function and logical operator\n",
    "age_at_school=5\n",
    "basim_age=input(\"How old is basim? \") #input function originally string type therefore must be converted in to integer for logical operator\n",
    "basim_age=int(basim_age) # basim age is converted from string to integer (int) i.e without int it is shown as \"5\"\n",
    "print(type(basim_age))\n",
    "print(basim_age==age_at_school) #logical operator"
   ]
  },
  {
   "cell_type": "markdown",
   "id": "015589bf-c85b-4415-b2b1-e7bd40e5c9f6",
   "metadata": {},
   "source": [
    "**08_type_conversion**"
   ]
  },
  {
   "cell_type": "code",
   "execution_count": 20,
   "id": "a1ae220b-e74b-46d3-a052-bb43003e8db1",
   "metadata": {},
   "outputs": [
    {
     "name": "stdin",
     "output_type": "stream",
     "text": [
      "What is your name?  Arslan\n"
     ]
    },
    {
     "name": "stdout",
     "output_type": "stream",
     "text": [
      "Arslan <class 'str'>\n"
     ]
    }
   ],
   "source": [
    "# x=10\n",
    "# y=10.2\n",
    "# z=\"Hello\"\n",
    "# print(type(x)) #integer int\n",
    "# print(type(y)) #float float\n",
    "# print(type(z)) #string str\n",
    "# #integer */+ float is always float type/class this is implicit type conversion\n",
    "\n",
    "# #implicit type conversion\n",
    "# x=x+y\n",
    "# print(x, type(x))\n",
    "\n",
    "#explicit type conversion\n",
    "# age=input(\"What is you age? \")\n",
    "# age=int(age) # method 1\n",
    "# print(type(age))\n",
    "# print(type(int(age))) # method 2\n",
    "# print(age, type(int(age)))\n",
    "# print(age, type(float(age))) # float is used for decimal ages like 18.5 as int will not support this age type, str is for string\n",
    "\n",
    "name=input(\"What is your name? \")\n",
    "print(name, type(str(name)))    # you have to design program to place integers and string and floats correctly"
   ]
  },
  {
   "cell_type": "markdown",
   "id": "48f6aea9-02c0-4cc1-a4e2-4e49b7a404ba",
   "metadata": {},
   "source": [
    "**09_if_else_elif**"
   ]
  },
  {
   "cell_type": "code",
   "execution_count": 22,
   "id": "f13bbebe-e7ff-46ed-8e95-b8fb7ddf3070",
   "metadata": {},
   "outputs": [
    {
     "name": "stdout",
     "output_type": "stream",
     "text": [
      "basim should join higher secondary school\n"
     ]
    }
   ],
   "source": [
    "# if, elif, else statements\n",
    "required_age_at_school= 5\n",
    "basim_age= 10\n",
    "\n",
    "# question: can basim go to school\n",
    "if basim_age==required_age_at_school:\n",
    "    print(\"Congratulations! basim can join the school.\") # with 'if' statement we have to define other statement/s\n",
    "                                                        #if it is not true otherwise it will not give output\n",
    "elif basim_age > required_age_at_school: #this is else if\n",
    "    print(\"basim should join higher secondary school\")\n",
    "elif basim_age <= 2:                    # you can add as many elif statements as you wish\n",
    "    print(\"You should take care of basim, he is still a baby!\") \n",
    "else:\n",
    "    print(\"basim cannot go to school\")"
   ]
  },
  {
   "cell_type": "markdown",
   "id": "f3cadd9f-9c15-4acc-ad87-976aa590e8e6",
   "metadata": {},
   "source": [
    "**10_function**"
   ]
  },
  {
   "cell_type": "code",
   "execution_count": 24,
   "id": "f0e93dd1-7e69-4eb2-81ad-10ba958f9cda",
   "metadata": {},
   "outputs": [
    {
     "name": "stdout",
     "output_type": "stream",
     "text": [
      "30\n"
     ]
    }
   ],
   "source": [
    "# defining a function - function is to get an intentional \"output\"   out of variables/input variables\n",
    "#1\n",
    "# def print_codanics():\n",
    "#     print(\"We are learning python with Aammar\")\n",
    "#     print(\"We are learning python with Aammar\")\n",
    "#     print(\"We are learning python with Aammar\")\n",
    "# print_codanics()\n",
    "\n",
    "#2 text is defined as variable with in a function\n",
    "# def print_codanics(): #function\n",
    "#     text=\"We are learning python with Aammar in codanics on youtube channel\" # nested string variable within a function\n",
    "#     print(text)\n",
    "#     print(text)\n",
    "#     print(text)\n",
    "# print_codanics()\n",
    "\n",
    "#3 text in the print of new function defined\n",
    "# def print_codanics(text):\n",
    "#     print(text)\n",
    "#     print(text)\n",
    "#     print(text)\n",
    "# print_codanics(\"We are learning python with Aammar in codanics on youtube channel\")\n",
    "\n",
    "# defining function with if, elif en else statements\n",
    "# def school_calculator(age, text):\n",
    "#     if age==5:\n",
    "#         print(\"Basim can join the school\")\n",
    "#     elif age>5:\n",
    "#         print(\"Basim should go to higher school\")\n",
    "#     else:\n",
    "#         print(\"Basim is still a baby\")\n",
    "# school_calculator(2, \"Basim\")\n",
    "\n",
    "# def school_calculator(age): # text is removed\n",
    "#     if age==5:\n",
    "#         print(\"Basim can join the school\")\n",
    "#     elif age>5:\n",
    "#         print(\"Basim should go to higher school\")\n",
    "#     else:\n",
    "#         print(\"Basim is still a baby\")\n",
    "# school_calculator(2)\n",
    "\n",
    "# defining a function of future\n",
    "\n",
    "def future_age(age):\n",
    "    # age=input(\"What is your age? \") # with input variable age is filled in terminal\n",
    "    # age=int(age)\n",
    "    new_age=age+20\n",
    "    return new_age\n",
    "    print(new_age)\n",
    "\n",
    "future_predicted_age=future_age(10) # without input variable, it shows function defined by variable & function is defined above\n",
    "print(future_predicted_age)\n",
    "\n",
    "# function creates output i.e print(new_age), then variable defines function i.e future_predicted_age=future_age(10) \n",
    "# and ultimately we print variable which is print(future_predicted_age)"
   ]
  },
  {
   "cell_type": "markdown",
   "id": "fe366eb0-83cf-48a4-914f-0b764886e895",
   "metadata": {},
   "source": [
    "**11_loops**"
   ]
  },
  {
   "cell_type": "code",
   "execution_count": 26,
   "id": "b74254b4-e6e6-4840-9324-ebee272d21ee",
   "metadata": {},
   "outputs": [
    {
     "name": "stdout",
     "output_type": "stream",
     "text": [
      "Mon\n",
      "Tue\n",
      "Wed\n",
      "Thu\n",
      "Sat\n",
      "Sun\n"
     ]
    }
   ],
   "source": [
    "# while loops and For loops\n",
    "\n",
    "# while loops\n",
    "# x=0\n",
    "# while (x<5):\n",
    "#     print(x)\n",
    "#     x=x+1\n",
    "\n",
    "# For loops\n",
    "# for x in range(5,10):\n",
    "#     print(x)\n",
    "\n",
    "# array is a data set\n",
    "days = [\"Mon\", \"Tue\", \"Wed\", \"Thu\", \"Fri\", \"Sat\", \"Sun\" ] # variable i.e day and with in this we formed array i.e name of days\n",
    "for d in days:\n",
    "    # if(d==\"Fri\"):break #loop broken and stops on defined d in if with logical operator\n",
    "    if(d==\"Fri\"): continue # loop continues after skipping d in if with logical operator\n",
    "    print(d)\n"
   ]
  },
  {
   "cell_type": "markdown",
   "id": "e53da3ce-0c26-4f56-80d6-48eefb03951a",
   "metadata": {},
   "source": [
    "**12_import_libraries**"
   ]
  },
  {
   "cell_type": "code",
   "execution_count": 28,
   "id": "2971228f-5c5f-4b16-b6c9-64c00b89f06a",
   "metadata": {},
   "outputs": [
    {
     "name": "stdout",
     "output_type": "stream",
     "text": [
      "The value of Pi is  3.141592653589793\n"
     ]
    }
   ],
   "source": [
    "#Instead of defining functions on your own we can use open source funtions in avaiable libraries\n",
    "#if you want to print the value of Pi\n",
    "\n",
    "import math                               #this is important to write\n",
    "print(\"The value of Pi is \", math.pi)\n",
    "\n",
    "# import statistics                         #this is important to write\n",
    "\n",
    "# x=[150,250,350,450]\n",
    "# print(statistics.mean(x))\n",
    "\n",
    "# numpy, pandas are some of the important libraries used for statistical analysis and data visualization\n",
    "\n",
    "# import math\n",
    "# print(math.pi)"
   ]
  },
  {
   "cell_type": "markdown",
   "id": "c9443fbf-6bca-49c6-9c55-5e5bc38c10a2",
   "metadata": {},
   "source": [
    "**13_troubleshooting**"
   ]
  },
  {
   "cell_type": "code",
   "execution_count": 30,
   "id": "b8504481-7ae3-4405-a6a4-c9e026bddc1d",
   "metadata": {},
   "outputs": [
    {
     "name": "stdout",
     "output_type": "stream",
     "text": [
      "HelloArslan\n"
     ]
    }
   ],
   "source": [
    "# print(We are learning python with Aammar) # syntax error of commas (language error) Easy troubleshooting\n",
    "# print(25/0)#zerodivision error - Run time error (general mathematical error) Easy troubleshooting\n",
    "\n",
    "name = \"Arslan\"\n",
    "# print(\"Hello name\") #Semantic error Difficult troubleshooting as it not identified by python # actually it should be print(\"Hello\", name)\n",
    "\n",
    "# print(\"Hello\", name) # somtimes if no space is needed the we use + instead of ,\n",
    "print(\"Hello\"+ name)"
   ]
  }
 ],
 "metadata": {
  "kernelspec": {
   "display_name": "Python 3 (ipykernel)",
   "language": "python",
   "name": "python3"
  },
  "language_info": {
   "codemirror_mode": {
    "name": "ipython",
    "version": 3
   },
   "file_extension": ".py",
   "mimetype": "text/x-python",
   "name": "python",
   "nbconvert_exporter": "python",
   "pygments_lexer": "ipython3",
   "version": "3.12.4"
  }
 },
 "nbformat": 4,
 "nbformat_minor": 5
}
