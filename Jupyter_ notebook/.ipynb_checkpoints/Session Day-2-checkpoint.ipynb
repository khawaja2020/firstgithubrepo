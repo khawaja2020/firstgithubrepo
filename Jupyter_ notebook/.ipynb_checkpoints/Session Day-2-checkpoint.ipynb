{
 "cells": [
  {
   "cell_type": "code",
   "execution_count": 238,
   "id": "378aeead-51c1-436a-8a67-1e1f12aaf3ae",
   "metadata": {},
   "outputs": [],
   "source": [
    "# body mass index (BMI)\n",
    "# input weight\n",
    "# height\n",
    "# BMI (Ask yourself your height)\n",
    "# Weight\n",
    "# calculate BMI\n",
    "# print BMI "
   ]
  },
  {
   "cell_type": "code",
   "execution_count": 239,
   "id": "be65971d-d02b-4264-b912-cfb2ff12c666",
   "metadata": {},
   "outputs": [],
   "source": [
    "#weight in kg/height in meter and its square"
   ]
  },
  {
   "cell_type": "code",
   "execution_count": 240,
   "id": "056f561d-b151-4305-bd8a-5aed2ccf7e9e",
   "metadata": {},
   "outputs": [
    {
     "name": "stdin",
     "output_type": "stream",
     "text": [
      "what is your weight?  90\n"
     ]
    }
   ],
   "source": [
    "weight= input(\"what is your weight? \")"
   ]
  },
  {
   "cell_type": "code",
   "execution_count": 241,
   "id": "aca32161-7067-47d3-9e32-8335c52e3ce6",
   "metadata": {},
   "outputs": [],
   "source": [
    "weight=float(weight)"
   ]
  },
  {
   "cell_type": "code",
   "execution_count": 242,
   "id": "56dd390a-6651-46b4-a173-170625389a82",
   "metadata": {},
   "outputs": [
    {
     "name": "stdin",
     "output_type": "stream",
     "text": [
      "what is your height?  1.78\n"
     ]
    }
   ],
   "source": [
    "height= input(\"what is your height? \")"
   ]
  },
  {
   "cell_type": "code",
   "execution_count": 243,
   "id": "80aa172c-b86a-431a-8cc3-2cd966f38234",
   "metadata": {},
   "outputs": [],
   "source": [
    "height=float(height)"
   ]
  },
  {
   "cell_type": "code",
   "execution_count": 244,
   "id": "676d43d9-3c55-4d8f-b4a5-3d3105477de2",
   "metadata": {},
   "outputs": [
    {
     "name": "stdin",
     "output_type": "stream",
     "text": [
      "what is you name?  Arslan Haroon\n"
     ]
    }
   ],
   "source": [
    "name= input(\"what is you name? \")"
   ]
  },
  {
   "cell_type": "code",
   "execution_count": 245,
   "id": "6e744ddb-c1d6-4f4d-a381-7c75b53d3099",
   "metadata": {},
   "outputs": [
    {
     "data": {
      "text/plain": [
       "float"
      ]
     },
     "execution_count": 245,
     "metadata": {},
     "output_type": "execute_result"
    }
   ],
   "source": [
    "type(weight)"
   ]
  },
  {
   "cell_type": "code",
   "execution_count": 246,
   "id": "7f4600eb-5382-41ba-87db-b7154a0fa578",
   "metadata": {},
   "outputs": [
    {
     "data": {
      "text/plain": [
       "float"
      ]
     },
     "execution_count": 246,
     "metadata": {},
     "output_type": "execute_result"
    }
   ],
   "source": [
    "type(height)"
   ]
  },
  {
   "cell_type": "code",
   "execution_count": 247,
   "id": "d603ec1d-1c49-4442-a6ce-34bc68757408",
   "metadata": {},
   "outputs": [
    {
     "data": {
      "text/plain": [
       "28.40550435551067"
      ]
     },
     "execution_count": 247,
     "metadata": {},
     "output_type": "execute_result"
    }
   ],
   "source": [
    "BMI= weight / height**2\n",
    "BMI"
   ]
  },
  {
   "cell_type": "code",
   "execution_count": 248,
   "id": "3e0f9b7b-38b8-4368-846f-9e9331f7cf08",
   "metadata": {},
   "outputs": [
    {
     "name": "stdout",
     "output_type": "stream",
     "text": [
      "My name is Arslan Haroon and my BMI is 28.40550435551067\n"
     ]
    }
   ],
   "source": [
    "print(\"My name is\", name, \"and my BMI is\", BMI)"
   ]
  },
  {
   "cell_type": "markdown",
   "id": "5a7f7c5e-aed1-45ba-8879-83eaa5345ec7",
   "metadata": {},
   "source": [
    "**Fundamentals of data visualization**\n",
    "\n",
    "Graphic system for R Language\n",
    "\n",
    "-codes to graphs\n",
    "\n",
    "-minds to page and plots\n",
    "\n",
    "DATA-CODE-GRAPH (triangle)= data visualization"
   ]
  },
  {
   "cell_type": "markdown",
   "id": "7c95fe1f-4f2a-4cee-8e90-d2e49a180ca2",
   "metadata": {},
   "source": [
    "**What is grammer of graphics?**\n",
    "\n",
    "**Major parts**\n",
    "\n",
    "1- mapping (data)\n",
    "\n",
    "2- aesthetics(color,shape,size)\n",
    "\n",
    "3- geometric (objects: line, bar, point, box, map, scatter, bubble)\n",
    "\n",
    "May also contain  **minor parts** - Data on specific coordinates\n",
    "\n",
    "**Parts of graph**\n",
    "\n",
    "1- x- axis numeric or categorical (strings) values\n",
    "\n",
    "2- y-axis numeric or categorical (strings) values \n",
    "\n",
    "3- origin\n",
    "\n",
    "4- title of the graph, title of x en y axis\n",
    "\n",
    "5-Hue"
   ]
  },
  {
   "cell_type": "markdown",
   "id": "a81a8f6d-7830-47e6-9a2f-cb0ef443249c",
   "metadata": {},
   "source": [
    "**Python packages or libraries for data science**\n",
    "\n",
    "For example:\n",
    "\n",
    "1- Scientific Computing\n",
    "- Pandas (data structures and tools / 2D dataframes)  \n",
    "- Numpy (Arrays and matrices)\n",
    "- Scipy (optimization and solving differential equations)\n",
    "\n",
    "2- Data Visualization\n",
    "- Matplotlib (Plots, graphs and figures)\n",
    "- Seaborn (heatmaps, timeseries and other plots)\n",
    "\n",
    "3- ML Algorithmic Development\n",
    "- Scikit-Learn (machine learninng: regression, classification, clustering analysis & so on...\n",
    "- Stats model (explore data, estimation of statistical models and perform statistical analysis)"
   ]
  },
  {
   "cell_type": "markdown",
   "id": "d4bd9f2d-f5f1-4323-a55a-1bef893999a2",
   "metadata": {},
   "source": [
    "**Variable types matters**\n",
    "\n",
    "Type of visualization depends on the variable type\n",
    "\n",
    "**Categorical variable**\n",
    "- counts (plot type)\n",
    "-  male vs female\n",
    "-  true or false\n",
    "-  0 vs 1\n",
    "-  yes vs no\n",
    "\n",
    "**Continuous variable**\n",
    "- scatter plot\n",
    "- statistical proportions (means and their comparison)\n",
    "\n",
    "**Chart suggestions by Andrew Abela on google**"
   ]
  },
  {
   "cell_type": "markdown",
   "id": "626d3b14-4f4f-4ed6-b8c1-0c39c6d2cd60",
   "metadata": {},
   "source": [
    "Install library in visual studio code\n",
    "- pip install seaborn\n",
    "- pip install matplotlib"
   ]
  },
  {
   "cell_type": "markdown",
   "id": "67248254-f11f-41f3-b25d-2f56e1befdb7",
   "metadata": {},
   "source": [
    "Think before you speak;\n",
    "- generate a hypothesis\n",
    "- find a story in your data\n",
    "- clean/tidy data\n",
    "- remove duplicates\n",
    "- handle missing values\n",
    "- find a proper variableto to drop duplicate in data - subset the data if required.\n",
    "\n",
    "These all things must be done before graphical representation. These are the steps before data visualization "
   ]
  },
  {
   "cell_type": "markdown",
   "id": "052138dd-9eef-42bf-8df1-a8465c131dec",
   "metadata": {},
   "source": [
    "**How daa visualization code works**\n",
    "\n",
    "always use import library seaborn\n",
    "\n",
    "then we have imported function in the library matplotlib\n",
    "\n",
    "set aesthethics (theme and colors)\n",
    "\n",
    "import builtin dataset from imported library then \n",
    "\n",
    "plot the data by defining the (x/y axis, hue is color, kind of geometry and data) plot with 1/2 variables then\n",
    "\n",
    "title can be added to the graph\n",
    "\n",
    "plt.show()"
   ]
  },
  {
   "cell_type": "code",
   "execution_count": 256,
   "id": "8a2edd53-89a3-4051-9a89-5c10fb8dfb0e",
   "metadata": {
    "scrolled": true
   },
   "outputs": [
    {
     "data": {
      "image/png": "[encoded data removed]",
      "text/plain": [
       "<Figure size 606.75x500 with 1 Axes>"
      ]
     },
     "metadata": {},
     "output_type": "display_data"
    }
   ],
   "source": [
    "import seaborn as sns\n",
    "import matplotlib.pyplot as plt\n",
    "sns.set_theme(style=\"ticks\", color_codes=True) #ticks is like deal number of KFC\n",
    "titanic= sns.load_dataset(\"titanic\") #Google for builtin data sets in seaborn\n",
    "sns.catplot(x=\"sex\", y=\"survived\", hue=\"class\", kind=\"bar\", data=titanic)\n",
    "plt.show()"
   ]
  },
  {
   "cell_type": "code",
   "execution_count": 294,
   "id": "b43310c2-6537-4344-8d43-d681b82337bc",
   "metadata": {
    "scrolled": true
   },
   "outputs": [
    {
     "data": {
      "image/png": "[encoded data removed]",
      "text/plain": [
       "<Figure size 640x480 with 1 Axes>"
      ]
     },
     "metadata": {},
     "output_type": "display_data"
    }
   ],
   "source": [
    "import seaborn as sns\n",
    "import matplotlib.pyplot as plt\n",
    "sns.set_theme(style=\"ticks\", color_codes=True)\n",
    "titanic= sns.load_dataset(\"titanic\")\n",
    "p1=sns.countplot(x=\"sex\", data=titanic, hue=\"class\") # we have used count plt therefore no y axis\n",
    "p1.set_title(\"Plot for counting\")\n",
    "plt.show()"
   ]
  },
  {
   "cell_type": "code",
   "execution_count": 285,
   "id": "fda60e9c-81a8-47f5-93e4-f742324afba3",
   "metadata": {
    "scrolled": true
   },
   "outputs": [
    {
     "data": {
      "image/png": "[encoded data removed]",
      "text/plain": [
       "<Figure size 392.5x600 with 2 Axes>"
      ]
     },
     "metadata": {},
     "output_type": "display_data"
    }
   ],
   "source": [
    "#scatter plot\n",
    "import seaborn as sns\n",
    "import matplotlib.pyplot as plt\n",
    "sns.set_theme(style=\"ticks\", color_codes=True)\n",
    "\n",
    "titanic= sns.load_dataset(\"titanic\")\n",
    "g=sns.FacetGrid(titanic, row=\"sex\", hue=\"alone\")\n",
    "g=(g.map(plt.scatter, \"age\", \"fare\").add_legend())\n",
    "plt.show()"
   ]
  },
  {
   "cell_type": "code",
   "execution_count": 283,
   "id": "c9ee219e-89bf-4a8a-a544-3fe3ebe79e47",
   "metadata": {
    "scrolled": true
   },
   "outputs": [
    {
     "data": {
      "text/html": [
       "<div>\n",
       "<style scoped>\n",
       "    .dataframe tbody tr th:only-of-type {\n",
       "        vertical-align: middle;\n",
       "    }\n",
       "\n",
       "    .dataframe tbody tr th {\n",
       "        vertical-align: top;\n",
       "    }\n",
       "\n",
       "    .dataframe thead th {\n",
       "        text-align: right;\n",
       "    }\n",
       "</style>\n",
       "<table border=\"1\" class=\"dataframe\">\n",
       "  <thead>\n",
       "    <tr style=\"text-align: right;\">\n",
       "      <th></th>\n",
       "      <th>survived</th>\n",
       "      <th>pclass</th>\n",
       "      <th>sex</th>\n",
       "      <th>age</th>\n",
       "      <th>sibsp</th>\n",
       "      <th>parch</th>\n",
       "      <th>fare</th>\n",
       "      <th>embarked</th>\n",
       "      <th>class</th>\n",
       "      <th>who</th>\n",
       "      <th>adult_male</th>\n",
       "      <th>deck</th>\n",
       "      <th>embark_town</th>\n",
       "      <th>alive</th>\n",
       "      <th>alone</th>\n",
       "    </tr>\n",
       "  </thead>\n",
       "  <tbody>\n",
       "    <tr>\n",
       "      <th>0</th>\n",
       "      <td>0</td>\n",
       "      <td>3</td>\n",
       "      <td>male</td>\n",
       "      <td>22.0</td>\n",
       "      <td>1</td>\n",
       "      <td>0</td>\n",
       "      <td>7.2500</td>\n",
       "      <td>S</td>\n",
       "      <td>Third</td>\n",
       "      <td>man</td>\n",
       "      <td>True</td>\n",
       "      <td>NaN</td>\n",
       "      <td>Southampton</td>\n",
       "      <td>no</td>\n",
       "      <td>False</td>\n",
       "    </tr>\n",
       "    <tr>\n",
       "      <th>1</th>\n",
       "      <td>1</td>\n",
       "      <td>1</td>\n",
       "      <td>female</td>\n",
       "      <td>38.0</td>\n",
       "      <td>1</td>\n",
       "      <td>0</td>\n",
       "      <td>71.2833</td>\n",
       "      <td>C</td>\n",
       "      <td>First</td>\n",
       "      <td>woman</td>\n",
       "      <td>False</td>\n",
       "      <td>C</td>\n",
       "      <td>Cherbourg</td>\n",
       "      <td>yes</td>\n",
       "      <td>False</td>\n",
       "    </tr>\n",
       "    <tr>\n",
       "      <th>2</th>\n",
       "      <td>1</td>\n",
       "      <td>3</td>\n",
       "      <td>female</td>\n",
       "      <td>26.0</td>\n",
       "      <td>0</td>\n",
       "      <td>0</td>\n",
       "      <td>7.9250</td>\n",
       "      <td>S</td>\n",
       "      <td>Third</td>\n",
       "      <td>woman</td>\n",
       "      <td>False</td>\n",
       "      <td>NaN</td>\n",
       "      <td>Southampton</td>\n",
       "      <td>yes</td>\n",
       "      <td>True</td>\n",
       "    </tr>\n",
       "    <tr>\n",
       "      <th>3</th>\n",
       "      <td>1</td>\n",
       "      <td>1</td>\n",
       "      <td>female</td>\n",
       "      <td>35.0</td>\n",
       "      <td>1</td>\n",
       "      <td>0</td>\n",
       "      <td>53.1000</td>\n",
       "      <td>S</td>\n",
       "      <td>First</td>\n",
       "      <td>woman</td>\n",
       "      <td>False</td>\n",
       "      <td>C</td>\n",
       "      <td>Southampton</td>\n",
       "      <td>yes</td>\n",
       "      <td>False</td>\n",
       "    </tr>\n",
       "    <tr>\n",
       "      <th>4</th>\n",
       "      <td>0</td>\n",
       "      <td>3</td>\n",
       "      <td>male</td>\n",
       "      <td>35.0</td>\n",
       "      <td>0</td>\n",
       "      <td>0</td>\n",
       "      <td>8.0500</td>\n",
       "      <td>S</td>\n",
       "      <td>Third</td>\n",
       "      <td>man</td>\n",
       "      <td>True</td>\n",
       "      <td>NaN</td>\n",
       "      <td>Southampton</td>\n",
       "      <td>no</td>\n",
       "      <td>True</td>\n",
       "    </tr>\n",
       "    <tr>\n",
       "      <th>...</th>\n",
       "      <td>...</td>\n",
       "      <td>...</td>\n",
       "      <td>...</td>\n",
       "      <td>...</td>\n",
       "      <td>...</td>\n",
       "      <td>...</td>\n",
       "      <td>...</td>\n",
       "      <td>...</td>\n",
       "      <td>...</td>\n",
       "      <td>...</td>\n",
       "      <td>...</td>\n",
       "      <td>...</td>\n",
       "      <td>...</td>\n",
       "      <td>...</td>\n",
       "      <td>...</td>\n",
       "    </tr>\n",
       "    <tr>\n",
       "      <th>886</th>\n",
       "      <td>0</td>\n",
       "      <td>2</td>\n",
       "      <td>male</td>\n",
       "      <td>27.0</td>\n",
       "      <td>0</td>\n",
       "      <td>0</td>\n",
       "      <td>13.0000</td>\n",
       "      <td>S</td>\n",
       "      <td>Second</td>\n",
       "      <td>man</td>\n",
       "      <td>True</td>\n",
       "      <td>NaN</td>\n",
       "      <td>Southampton</td>\n",
       "      <td>no</td>\n",
       "      <td>True</td>\n",
       "    </tr>\n",
       "    <tr>\n",
       "      <th>887</th>\n",
       "      <td>1</td>\n",
       "      <td>1</td>\n",
       "      <td>female</td>\n",
       "      <td>19.0</td>\n",
       "      <td>0</td>\n",
       "      <td>0</td>\n",
       "      <td>30.0000</td>\n",
       "      <td>S</td>\n",
       "      <td>First</td>\n",
       "      <td>woman</td>\n",
       "      <td>False</td>\n",
       "      <td>B</td>\n",
       "      <td>Southampton</td>\n",
       "      <td>yes</td>\n",
       "      <td>True</td>\n",
       "    </tr>\n",
       "    <tr>\n",
       "      <th>888</th>\n",
       "      <td>0</td>\n",
       "      <td>3</td>\n",
       "      <td>female</td>\n",
       "      <td>NaN</td>\n",
       "      <td>1</td>\n",
       "      <td>2</td>\n",
       "      <td>23.4500</td>\n",
       "      <td>S</td>\n",
       "      <td>Third</td>\n",
       "      <td>woman</td>\n",
       "      <td>False</td>\n",
       "      <td>NaN</td>\n",
       "      <td>Southampton</td>\n",
       "      <td>no</td>\n",
       "      <td>False</td>\n",
       "    </tr>\n",
       "    <tr>\n",
       "      <th>889</th>\n",
       "      <td>1</td>\n",
       "      <td>1</td>\n",
       "      <td>male</td>\n",
       "      <td>26.0</td>\n",
       "      <td>0</td>\n",
       "      <td>0</td>\n",
       "      <td>30.0000</td>\n",
       "      <td>C</td>\n",
       "      <td>First</td>\n",
       "      <td>man</td>\n",
       "      <td>True</td>\n",
       "      <td>C</td>\n",
       "      <td>Cherbourg</td>\n",
       "      <td>yes</td>\n",
       "      <td>True</td>\n",
       "    </tr>\n",
       "    <tr>\n",
       "      <th>890</th>\n",
       "      <td>0</td>\n",
       "      <td>3</td>\n",
       "      <td>male</td>\n",
       "      <td>32.0</td>\n",
       "      <td>0</td>\n",
       "      <td>0</td>\n",
       "      <td>7.7500</td>\n",
       "      <td>Q</td>\n",
       "      <td>Third</td>\n",
       "      <td>man</td>\n",
       "      <td>True</td>\n",
       "      <td>NaN</td>\n",
       "      <td>Queenstown</td>\n",
       "      <td>no</td>\n",
       "      <td>True</td>\n",
       "    </tr>\n",
       "  </tbody>\n",
       "</table>\n",
       "<p>891 rows × 15 columns</p>\n",
       "</div>"
      ],
      "text/plain": [
       "     survived  pclass     sex   age  sibsp  parch     fare embarked   class  \\\n",
       "0           0       3    male  22.0      1      0   7.2500        S   Third   \n",
       "1           1       1  female  38.0      1      0  71.2833        C   First   \n",
       "2           1       3  female  26.0      0      0   7.9250        S   Third   \n",
       "3           1       1  female  35.0      1      0  53.1000        S   First   \n",
       "4           0       3    male  35.0      0      0   8.0500        S   Third   \n",
       "..        ...     ...     ...   ...    ...    ...      ...      ...     ...   \n",
       "886         0       2    male  27.0      0      0  13.0000        S  Second   \n",
       "887         1       1  female  19.0      0      0  30.0000        S   First   \n",
       "888         0       3  female   NaN      1      2  23.4500        S   Third   \n",
       "889         1       1    male  26.0      0      0  30.0000        C   First   \n",
       "890         0       3    male  32.0      0      0   7.7500        Q   Third   \n",
       "\n",
       "       who  adult_male deck  embark_town alive  alone  \n",
       "0      man        True  NaN  Southampton    no  False  \n",
       "1    woman       False    C    Cherbourg   yes  False  \n",
       "2    woman       False  NaN  Southampton   yes   True  \n",
       "3    woman       False    C  Southampton   yes  False  \n",
       "4      man        True  NaN  Southampton    no   True  \n",
       "..     ...         ...  ...          ...   ...    ...  \n",
       "886    man        True  NaN  Southampton    no   True  \n",
       "887  woman       False    B  Southampton   yes   True  \n",
       "888  woman       False  NaN  Southampton    no  False  \n",
       "889    man        True    C    Cherbourg   yes   True  \n",
       "890    man        True  NaN   Queenstown    no   True  \n",
       "\n",
       "[891 rows x 15 columns]"
      ]
     },
     "execution_count": 283,
     "metadata": {},
     "output_type": "execute_result"
    }
   ],
   "source": [
    "import seaborn as sns\n",
    "import matplotlib.pyplot as plt\n",
    "sns.set_theme(style=\"ticks\", color_codes=True)\n",
    "titanic= sns.load_dataset(\"titanic\")\n",
    "titanic # dataset we can change these parameters to change plot\n",
    "# p1=sns.countplot(x=\"who\", data=titanic, hue=\"alone\")\n",
    "# p1.set_title(\"Plot for counting\")\n",
    "# plt.show()"
   ]
  }
 ],
 "metadata": {
  "kernelspec": {
   "display_name": "Python 3 (ipykernel)",
   "language": "python",
   "name": "python3"
  },
  "language_info": {
   "codemirror_mode": {
    "name": "ipython",
    "version": 3
   },
   "file_extension": ".py",
   "mimetype": "text/x-python",
   "name": "python",
   "nbconvert_exporter": "python",
   "pygments_lexer": "ipython3",
   "version": "3.12.4"
  }
 },
 "nbformat": 4,
 "nbformat_minor": 5
}
