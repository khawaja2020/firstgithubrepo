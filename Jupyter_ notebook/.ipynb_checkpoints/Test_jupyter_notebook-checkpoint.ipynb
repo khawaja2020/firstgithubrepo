{
 "cells": [
  {
   "cell_type": "code",
   "execution_count": 1,
   "id": "d3e5cd41-ae31-4db3-a863-b40bfd932373",
   "metadata": {},
   "outputs": [],
   "source": [
    "# Install Anaconda , using anaconda navigator we select Jupyter notebook for saving codes and making notebooks.\n",
    "#We first created a folder and then made a file (.ipynb) with in that folder by selecting python3 (ipykernel)\n",
    "# Jupyter notebook has more options and more utility of the available options than Visual studio code\n",
    "#markdown option should be selected for making headings\n",
    "# C:\\Users\\Lenovo Legion\\Documents\\Jupyter_ notebook\n",
    "# Run cell is ctrl+Enter\n",
    "# keyboard shortcuts ctrl+shift+H"
   ]
  },
  {
   "cell_type": "markdown",
   "id": "dcd1e6fc-b568-44a1-93fb-5dcd66f5fcfe",
   "metadata": {},
   "source": [
    "# Python ka chilla with #baba_Aammar\n",
    "## How to use Jupyter note book\n",
    "### Basics of Python\n",
    "1- My first program\n",
    "\n",
    "2- My second program"
   ]
  },
  {
   "cell_type": "markdown",
   "id": "41d99205-c9e0-456c-aca3-3afc42c6441b",
   "metadata": {},
   "source": [
    "**01_First_Program**"
   ]
  },
  {
   "cell_type": "code",
   "execution_count": 4,
   "id": "f29e1d9c-e063-4c79-94a0-f17adf0d1a2b",
   "metadata": {
    "scrolled": true
   },
   "outputs": [
    {
     "name": "stdout",
     "output_type": "stream",
     "text": [
      "5\n",
      "2+3\n",
      "python_with_AH\n",
      "this is my first program\n",
      "-1\n",
      "2\n"
     ]
    }
   ],
   "source": [
    "# 01_First_Program\n",
    "print(2+3)\n",
    "print(\"2+3\")\n",
    "print(\"python_with_AH\")\n",
    "print(\"this is my first program\")\n",
    "print(2+3-6)\n",
    "print(1+1)"
   ]
  },
  {
   "cell_type": "markdown",
   "id": "74cbd1b6-59c4-4fb8-8c32-f96df2ac60c9",
   "metadata": {},
   "source": [
    "**02_operators**"
   ]
  },
  {
   "cell_type": "code",
   "execution_count": null,
   "id": "ad84f379-dcee-40c8-b8fe-761d4e332105",
   "metadata": {},
   "outputs": [],
   "source": [
    "print(2+2)\n",
    "print(3-2)\n",
    "print(5*5)\n",
    "print(20/2) #for floating numbers with decimels like 3.0\n",
    "print(13%2) #modulus operator/variable\n",
    "print(20//2) # for whole number like 3 without .0 or any other decimels\n",
    "print(2**3)\n",
    "print(3/6)\n",
    "print(3**2/2*3/3+6-4) "
   ]
  },
  {
   "cell_type": "markdown",
   "id": "cae4b7fb-1a25-44bc-8cb2-a623c3923dbb",
   "metadata": {},
   "source": [
    "*PEMDAS paranthesis, Exponents, Multiply, Divide, Addition, substraction (sequence from left to right MD/AS)*"
   ]
  }
 ],
 "metadata": {
  "kernelspec": {
   "display_name": "Python 3 (ipykernel)",
   "language": "python",
   "name": "python3"
  },
  "language_info": {
   "codemirror_mode": {
    "name": "ipython",
    "version": 3
   },
   "file_extension": ".py",
   "mimetype": "text/x-python",
   "name": "python",
   "nbconvert_exporter": "python",
   "pygments_lexer": "ipython3",
   "version": "3.12.4"
  }
 },
 "nbformat": 4,
 "nbformat_minor": 5
}
