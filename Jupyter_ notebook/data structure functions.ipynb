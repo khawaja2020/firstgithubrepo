{
 "cells": [
  {
   "cell_type": "markdown",
   "id": "3faeceb5-0aed-4ea7-8061-1e57be25d5fd",
   "metadata": {},
   "source": [
    "### tuple fuctions\n",
    "- In tuple we have any element in structure, **elements** are *int, float, boolean, str*"
   ]
  },
  {
   "cell_type": "code",
   "execution_count": 3481,
   "id": "d55f25f9-9175-4d9f-b15d-fd0b9626a398",
   "metadata": {},
   "outputs": [
    {
     "data": {
      "text/plain": [
       "(2024, 'Tesla', 'electriccar', 'electriccar', True, 3)"
      ]
     },
     "execution_count": 3481,
     "metadata": {},
     "output_type": "execute_result"
    }
   ],
   "source": [
    "tup1= (2024, \"Tesla\", \"electriccar\", \"electriccar\", True, 3)\n",
    "tup1"
   ]
  },
  {
   "cell_type": "code",
   "execution_count": 3482,
   "id": "e5d2ee69-9b63-4acc-bd28-0fe57c5fcbb5",
   "metadata": {},
   "outputs": [
    {
     "data": {
      "text/plain": [
       "tuple"
      ]
     },
     "execution_count": 3482,
     "metadata": {},
     "output_type": "execute_result"
    }
   ],
   "source": [
    "type(tup1)"
   ]
  },
  {
   "cell_type": "code",
   "execution_count": 3483,
   "id": "1708f591-3796-447a-a660-0742f6f1d3e2",
   "metadata": {},
   "outputs": [
    {
     "data": {
      "text/plain": [
       "6"
      ]
     },
     "execution_count": 3483,
     "metadata": {},
     "output_type": "execute_result"
    }
   ],
   "source": [
    "len(tup1)"
   ]
  },
  {
   "cell_type": "code",
   "execution_count": 3484,
   "id": "73febfd2-9cac-4ce7-b63a-295544750323",
   "metadata": {},
   "outputs": [
    {
     "data": {
      "text/plain": [
       "(2024, 'Tesla', 'electriccar', 'electriccar', True, 3)"
      ]
     },
     "execution_count": 3484,
     "metadata": {},
     "output_type": "execute_result"
    }
   ],
   "source": [
    "tup1[0:6]"
   ]
  },
  {
   "cell_type": "code",
   "execution_count": 3485,
   "id": "6ffcc155-d85f-4339-b146-4c8dc69c83eb",
   "metadata": {},
   "outputs": [
    {
     "data": {
      "text/plain": [
       "(1, 2025)"
      ]
     },
     "execution_count": 3485,
     "metadata": {},
     "output_type": "execute_result"
    }
   ],
   "source": [
    "tup2= (1, 2025)\n",
    "tup2"
   ]
  },
  {
   "cell_type": "code",
   "execution_count": 3486,
   "id": "926d270e-78ef-45fb-8606-c330954902f7",
   "metadata": {},
   "outputs": [
    {
     "data": {
      "text/plain": [
       "tuple"
      ]
     },
     "execution_count": 3486,
     "metadata": {},
     "output_type": "execute_result"
    }
   ],
   "source": [
    "type(tup2)"
   ]
  },
  {
   "cell_type": "markdown",
   "id": "4fb68d24-1787-41e5-93ef-25d7027e30d0",
   "metadata": {},
   "source": [
    "**concatenation and repitition function is on tuple, not individual elements like int,str,bool,float. Therefore\n",
    "the type of variable is important**"
   ]
  },
  {
   "cell_type": "code",
   "execution_count": 3488,
   "id": "2156dcb7-5a21-42d3-ae96-0b6d8ff410f2",
   "metadata": {},
   "outputs": [
    {
     "data": {
      "text/plain": [
       "(2024, 'Tesla', 'electriccar', 'electriccar', True, 3, 1, 2025)"
      ]
     },
     "execution_count": 3488,
     "metadata": {},
     "output_type": "execute_result"
    }
   ],
   "source": [
    "tup1 + tup2"
   ]
  },
  {
   "cell_type": "code",
   "execution_count": 3489,
   "id": "7b003a4d-a4d1-45fd-9066-982ddae88346",
   "metadata": {},
   "outputs": [
    {
     "data": {
      "text/plain": [
       "(2024, 'Tesla', 'electriccar', 'electriccar', True, 3, 1, 2025, 1, 2025)"
      ]
     },
     "execution_count": 3489,
     "metadata": {},
     "output_type": "execute_result"
    }
   ],
   "source": [
    "tup1+tup2*2"
   ]
  },
  {
   "cell_type": "code",
   "execution_count": 3490,
   "id": "b8d7d2a0-3501-4b79-8dc0-1bc046b44c6c",
   "metadata": {},
   "outputs": [
    {
     "data": {
      "text/plain": [
       "2"
      ]
     },
     "execution_count": 3490,
     "metadata": {},
     "output_type": "execute_result"
    }
   ],
   "source": [
    "#tuple count function - The count() method returns the number of times the specified element appears in the tuple \n",
    "tup1.count(\"electriccar\")"
   ]
  },
  {
   "cell_type": "code",
   "execution_count": 3491,
   "id": "7e9168fa-b79c-4cb5-89a7-afb78b0ebbdc",
   "metadata": {},
   "outputs": [
    {
     "data": {
      "text/plain": [
       "1"
      ]
     },
     "execution_count": 3491,
     "metadata": {},
     "output_type": "execute_result"
    }
   ],
   "source": [
    "# tuple index function - The index() method returns the index of the specified element in the tuple.\n",
    "tup1.index(\"Tesla\")"
   ]
  },
  {
   "cell_type": "markdown",
   "id": "7cf6c353-0682-4ba5-910f-d3103285b830",
   "metadata": {},
   "source": [
    "### List fuctions\n",
    "- In list we have any element in structure, **elements** are *int, float, boolean, str*"
   ]
  },
  {
   "cell_type": "code",
   "execution_count": 3493,
   "id": "09d07607-7627-4354-b893-ad45b60f02e2",
   "metadata": {
    "scrolled": true
   },
   "outputs": [
    {
     "data": {
      "text/plain": [
       "['Volkswagen', 'Audi', 'Audi', 'BMW', 'Mercedes', 'Tesla', 2024, False]"
      ]
     },
     "execution_count": 3493,
     "metadata": {},
     "output_type": "execute_result"
    }
   ],
   "source": [
    "list1= [\"Volkswagen\", \"Audi\", \"Audi\", \"BMW\", \"Mercedes\", \"Tesla\", 2024, False]\n",
    "list1"
   ]
  },
  {
   "cell_type": "code",
   "execution_count": 3494,
   "id": "bc835c41-c201-4911-b98c-e42e329e55bf",
   "metadata": {
    "scrolled": true
   },
   "outputs": [
    {
     "data": {
      "text/plain": [
       "list"
      ]
     },
     "execution_count": 3494,
     "metadata": {},
     "output_type": "execute_result"
    }
   ],
   "source": [
    "type(list1)"
   ]
  },
  {
   "cell_type": "code",
   "execution_count": 3495,
   "id": "e679f23e-66b3-49e9-aaa8-b34fd398cf46",
   "metadata": {},
   "outputs": [
    {
     "data": {
      "text/plain": [
       "8"
      ]
     },
     "execution_count": 3495,
     "metadata": {},
     "output_type": "execute_result"
    }
   ],
   "source": [
    "len(list1)"
   ]
  },
  {
   "cell_type": "code",
   "execution_count": 3496,
   "id": "5b3a5907-5dbc-466b-9b94-d660f3e57893",
   "metadata": {},
   "outputs": [
    {
     "data": {
      "text/plain": [
       "['Volkswagen', 'Audi', 'Audi', 'BMW', 'Mercedes', 'Tesla', 2024, False]"
      ]
     },
     "execution_count": 3496,
     "metadata": {},
     "output_type": "execute_result"
    }
   ],
   "source": [
    "list1[0:8]"
   ]
  },
  {
   "cell_type": "code",
   "execution_count": 3497,
   "id": "679891c0-ed7e-41a7-a8b8-cc994b031a6a",
   "metadata": {},
   "outputs": [
    {
     "data": {
      "text/plain": [
       "['Volkswagen', 'Audi', 'Audi', 'BMW', 'Mercedes', 'Tesla', 2024, False, 'Cars']"
      ]
     },
     "execution_count": 3497,
     "metadata": {},
     "output_type": "execute_result"
    }
   ],
   "source": [
    "#The append() method adds an item to the end of the list.\n",
    "list1.append(\"Cars\")\n",
    "list1"
   ]
  },
  {
   "cell_type": "code",
   "execution_count": 3498,
   "id": "7c2b3803-baeb-4a88-8b04-ca05bdc38145",
   "metadata": {},
   "outputs": [
    {
     "data": {
      "text/plain": [
       "['Volkswagen', 'Audi', 'Audi', 'BMW', 'Mercedes', 'Tesla', 2024, False, 'Cars']"
      ]
     },
     "execution_count": 3498,
     "metadata": {},
     "output_type": "execute_result"
    }
   ],
   "source": [
    "#The copy() method returns a shallow copy of the list.\n",
    "copy_list1 = list1.copy()\n",
    "copy_list1"
   ]
  },
  {
   "cell_type": "code",
   "execution_count": 3499,
   "id": "116fae99-b294-4460-b9a8-fe60d054e35f",
   "metadata": {},
   "outputs": [
    {
     "data": {
      "text/plain": [
       "2"
      ]
     },
     "execution_count": 3499,
     "metadata": {},
     "output_type": "execute_result"
    }
   ],
   "source": [
    "#The count() method returns the number of times the specified element appears in the list.\n",
    "list1.count(\"Audi\")"
   ]
  },
  {
   "cell_type": "code",
   "execution_count": 3500,
   "id": "a3806dcf-c25d-4365-9d8f-84d8eef90655",
   "metadata": {},
   "outputs": [
    {
     "data": {
      "text/plain": [
       "('Arslan', 'Haroon')"
      ]
     },
     "execution_count": 3500,
     "metadata": {},
     "output_type": "execute_result"
    }
   ],
   "source": [
    "name= (\"Arslan\", \"Haroon\")\n",
    "name"
   ]
  },
  {
   "cell_type": "code",
   "execution_count": 3501,
   "id": "80a3ca42-8308-4dea-9643-7fd9642ed86c",
   "metadata": {},
   "outputs": [
    {
     "data": {
      "text/plain": [
       "tuple"
      ]
     },
     "execution_count": 3501,
     "metadata": {},
     "output_type": "execute_result"
    }
   ],
   "source": [
    "type(name)"
   ]
  },
  {
   "cell_type": "code",
   "execution_count": 3502,
   "id": "36232d19-6d74-425b-9d5f-45b1a601f6f5",
   "metadata": {},
   "outputs": [
    {
     "data": {
      "text/plain": [
       "['Volkswagen',\n",
       " 'Audi',\n",
       " 'Audi',\n",
       " 'BMW',\n",
       " 'Mercedes',\n",
       " 'Tesla',\n",
       " 2024,\n",
       " False,\n",
       " 'Cars',\n",
       " 'Arslan',\n",
       " 'Haroon']"
      ]
     },
     "execution_count": 3502,
     "metadata": {},
     "output_type": "execute_result"
    }
   ],
   "source": [
    "#The extend() method adds all the items of the specified iterable, such as list, tuple, dictionary, or string , to the end of a list.\n",
    "list1.extend(name)\n",
    "list1"
   ]
  },
  {
   "cell_type": "code",
   "execution_count": 3503,
   "id": "d0fd0d54-1e16-493c-95b6-f9af782feef6",
   "metadata": {},
   "outputs": [
    {
     "data": {
      "text/plain": [
       "9"
      ]
     },
     "execution_count": 3503,
     "metadata": {},
     "output_type": "execute_result"
    }
   ],
   "source": [
    "#The index() method returns the index of the specified element in the list.\n",
    "list1.index(\"Arslan\")\n",
    "#list1.index(2024)\n",
    "# list1.index(False)"
   ]
  },
  {
   "cell_type": "code",
   "execution_count": 3504,
   "id": "7481ba88-7f3a-4495-9ba3-77ba9706e241",
   "metadata": {
    "scrolled": true
   },
   "outputs": [
    {
     "data": {
      "text/plain": [
       "['Volkswagen',\n",
       " 'Audi',\n",
       " 'Audi',\n",
       " 'BMW',\n",
       " 'Mercedes',\n",
       " 'Tesla',\n",
       " 2024,\n",
       " False,\n",
       " 'Cars',\n",
       " 'Mr',\n",
       " 'Arslan',\n",
       " 'Haroon']"
      ]
     },
     "execution_count": 3504,
     "metadata": {},
     "output_type": "execute_result"
    }
   ],
   "source": [
    "#The insert() method inserts an element to the list at the specified index. added mr at index number 9\n",
    "list1.insert(9, \"Mr\")\n",
    "list1"
   ]
  },
  {
   "cell_type": "code",
   "execution_count": 3505,
   "id": "efa4ee2d-709d-4534-9c47-72a576fb483c",
   "metadata": {},
   "outputs": [
    {
     "data": {
      "text/plain": [
       "['Volkswagen',\n",
       " 'Audi',\n",
       " 'Audi',\n",
       " 'BMW',\n",
       " 'Mercedes',\n",
       " 'Tesla',\n",
       " 2024,\n",
       " False,\n",
       " 'Cars',\n",
       " 'Arslan',\n",
       " 'Haroon']"
      ]
     },
     "execution_count": 3505,
     "metadata": {},
     "output_type": "execute_result"
    }
   ],
   "source": [
    "#The list pop() method removes the item at the specified index. The method also returns the removed item. Mr at index 9 is removed\n",
    "list1.pop(9)\n",
    "list1"
   ]
  },
  {
   "cell_type": "code",
   "execution_count": 3506,
   "id": "611a2cc5-fa3a-4883-ac0e-4b169f5ed899",
   "metadata": {},
   "outputs": [
    {
     "data": {
      "text/plain": [
       "['Volkswagen',\n",
       " 'Audi',\n",
       " 'BMW',\n",
       " 'Mercedes',\n",
       " 'Tesla',\n",
       " 2024,\n",
       " False,\n",
       " 'Cars',\n",
       " 'Arslan',\n",
       " 'Haroon']"
      ]
     },
     "execution_count": 3506,
     "metadata": {},
     "output_type": "execute_result"
    }
   ],
   "source": [
    "#The remove() method removes the first matching element (which is passed as an argument) from the list.\n",
    "list1.remove(\"Audi\")\n",
    "list1"
   ]
  },
  {
   "cell_type": "code",
   "execution_count": 3507,
   "id": "53580882-d425-4200-9385-cea4e6cfda1f",
   "metadata": {
    "scrolled": true
   },
   "outputs": [
    {
     "data": {
      "text/plain": [
       "['Haroon',\n",
       " 'Arslan',\n",
       " 'Cars',\n",
       " False,\n",
       " 2024,\n",
       " 'Tesla',\n",
       " 'Mercedes',\n",
       " 'BMW',\n",
       " 'Audi',\n",
       " 'Volkswagen']"
      ]
     },
     "execution_count": 3507,
     "metadata": {},
     "output_type": "execute_result"
    }
   ],
   "source": [
    "#The reverse() method reverses the elements of the list.\n",
    "list1.reverse()\n",
    "list1"
   ]
  },
  {
   "cell_type": "code",
   "execution_count": 3508,
   "id": "837c63d7-f636-4b3b-beb2-a5b99fc51183",
   "metadata": {},
   "outputs": [
    {
     "data": {
      "text/plain": [
       "[110, 250, 20, 100, 350, 35]"
      ]
     },
     "execution_count": 3508,
     "metadata": {},
     "output_type": "execute_result"
    }
   ],
   "source": [
    "list2= [110, 250, 20, 100, 350, 35]\n",
    "list2"
   ]
  },
  {
   "cell_type": "code",
   "execution_count": 3509,
   "id": "e8d73a00-42c4-40b5-af2a-e1cfef5518f9",
   "metadata": {},
   "outputs": [
    {
     "data": {
      "text/plain": [
       "[20, 35, 100, 110, 250, 350]"
      ]
     },
     "execution_count": 3509,
     "metadata": {},
     "output_type": "execute_result"
    }
   ],
   "source": [
    "#The list's sort() method sorts the elements of a list.\n",
    "list2.sort()\n",
    "list2"
   ]
  },
  {
   "cell_type": "code",
   "execution_count": 3510,
   "id": "669947f0-4138-4196-937a-9d5813adf5d8",
   "metadata": {},
   "outputs": [
    {
     "data": {
      "text/plain": [
       "[]"
      ]
     },
     "execution_count": 3510,
     "metadata": {},
     "output_type": "execute_result"
    }
   ],
   "source": [
    "#The clear() method removes all items from the list.\n",
    "list2.clear()\n",
    "list2"
   ]
  },
  {
   "cell_type": "markdown",
   "id": "53489e9f-a7b4-4f42-8493-104b1838a011",
   "metadata": {},
   "source": [
    "### Dictionaries fuctions\n",
    "- In dict we have **\"keys\":values** in structure,"
   ]
  },
  {
   "cell_type": "code",
   "execution_count": 3512,
   "id": "f4b8b16a-631e-41e6-a07c-904dce0829d7",
   "metadata": {},
   "outputs": [
    {
     "data": {
      "text/plain": [
       "{'volkswagen': 2024, 'Audi': 2015, 'BMW': 2018, 'Mercedez': 2021}"
      ]
     },
     "execution_count": 3512,
     "metadata": {},
     "output_type": "execute_result"
    }
   ],
   "source": [
    "dict1= {\"volkswagen\":2024, \"Audi\":2015, \"BMW\":2018, \"Mercedez\":2021}\n",
    "dict1"
   ]
  },
  {
   "cell_type": "code",
   "execution_count": 3513,
   "id": "a5f3d826-e7d8-4e8d-93c1-f88439ab639e",
   "metadata": {},
   "outputs": [
    {
     "data": {
      "text/plain": [
       "4"
      ]
     },
     "execution_count": 3513,
     "metadata": {},
     "output_type": "execute_result"
    }
   ],
   "source": [
    "len(dict1)"
   ]
  },
  {
   "cell_type": "code",
   "execution_count": 3514,
   "id": "17cda4f9-505e-47f6-bab4-f5f3de466c14",
   "metadata": {},
   "outputs": [
    {
     "data": {
      "text/plain": [
       "dict"
      ]
     },
     "execution_count": 3514,
     "metadata": {},
     "output_type": "execute_result"
    }
   ],
   "source": [
    "type(dict1)"
   ]
  },
  {
   "cell_type": "code",
   "execution_count": 3515,
   "id": "75660a25-bb44-4846-872d-083a2f4cb498",
   "metadata": {},
   "outputs": [
    {
     "data": {
      "text/plain": [
       "dict_keys(['volkswagen', 'Audi', 'BMW', 'Mercedez'])"
      ]
     },
     "execution_count": 3515,
     "metadata": {},
     "output_type": "execute_result"
    }
   ],
   "source": [
    "#The keys() method extracts the keys of the dictionary and returns the list of keys as a view object.\n",
    "dict1.keys()"
   ]
  },
  {
   "cell_type": "code",
   "execution_count": 3516,
   "id": "314d2e93-85fd-4fb1-80ed-2f686e2e25b9",
   "metadata": {},
   "outputs": [
    {
     "data": {
      "text/plain": [
       "dict_values([2024, 2015, 2018, 2021])"
      ]
     },
     "execution_count": 3516,
     "metadata": {},
     "output_type": "execute_result"
    }
   ],
   "source": [
    "#The values() method returns a view object that displays a list of all the values in the dictionary.\n",
    "dict1.values()"
   ]
  },
  {
   "cell_type": "code",
   "execution_count": 3517,
   "id": "faddfc18-3902-44e9-a99d-4301d7f1fde1",
   "metadata": {},
   "outputs": [
    {
     "data": {
      "text/plain": [
       "{'volkswagen': 2024, 'Audi': 2015, 'BMW': 2018, 'Mercedez': 2021}"
      ]
     },
     "execution_count": 3517,
     "metadata": {},
     "output_type": "execute_result"
    }
   ],
   "source": [
    "#They copy() method returns a copy (shallow copy) of the dictionary.\n",
    "copy_dict1=dict1.copy()\n",
    "copy_dict1"
   ]
  },
  {
   "cell_type": "code",
   "execution_count": 3518,
   "id": "202e2d36-9f9e-43c9-8618-2af9a6fe6b66",
   "metadata": {},
   "outputs": [
    {
     "data": {
      "text/plain": [
       "{'cement', 'gypsum plates', 'paint'}"
      ]
     },
     "execution_count": 3518,
     "metadata": {},
     "output_type": "execute_result"
    }
   ],
   "source": [
    "#The fromkeys() method creates a dictionary from the given sequence of keys and values.\n",
    "material={\"cement\", \"paint\", \"gypsum plates\"}\n",
    "material"
   ]
  },
  {
   "cell_type": "code",
   "execution_count": 3519,
   "id": "da492e10-8c41-4370-9c7c-701f6da4fcd8",
   "metadata": {},
   "outputs": [
    {
     "data": {
      "text/plain": [
       "set"
      ]
     },
     "execution_count": 3519,
     "metadata": {},
     "output_type": "execute_result"
    }
   ],
   "source": [
    "type(material)"
   ]
  },
  {
   "cell_type": "code",
   "execution_count": 3520,
   "id": "3ea6d1f3-188d-42d5-9c20-33fc3ac4befa",
   "metadata": {},
   "outputs": [
    {
     "data": {
      "text/plain": [
       "5"
      ]
     },
     "execution_count": 3520,
     "metadata": {},
     "output_type": "execute_result"
    }
   ],
   "source": [
    "material_cost= 5\n",
    "material_cost"
   ]
  },
  {
   "cell_type": "code",
   "execution_count": 3521,
   "id": "beb6a807-17d8-402b-a5c3-d792bd716f64",
   "metadata": {},
   "outputs": [
    {
     "data": {
      "text/plain": [
       "{'gypsum plates': 5, 'cement': 5, 'paint': 5}"
      ]
     },
     "execution_count": 3521,
     "metadata": {},
     "output_type": "execute_result"
    }
   ],
   "source": [
    "dict2=dict.fromkeys(material, material_cost)\n",
    "dict2"
   ]
  },
  {
   "cell_type": "code",
   "execution_count": 3522,
   "id": "1a61cbae-d65e-41c8-987a-4e9c70d8cb14",
   "metadata": {},
   "outputs": [
    {
     "data": {
      "text/plain": [
       "2024"
      ]
     },
     "execution_count": 3522,
     "metadata": {},
     "output_type": "execute_result"
    }
   ],
   "source": [
    "#The get() method returns the value of the specified key in the dictionary.\n",
    "dict1.get(\"volkswagen\")"
   ]
  },
  {
   "cell_type": "code",
   "execution_count": 3523,
   "id": "95715fc8-a7e3-4eac-94ed-3a667d534082",
   "metadata": {},
   "outputs": [
    {
     "data": {
      "text/plain": [
       "dict_items([('volkswagen', 2024), ('Audi', 2015), ('BMW', 2018), ('Mercedez', 2021)])"
      ]
     },
     "execution_count": 3523,
     "metadata": {},
     "output_type": "execute_result"
    }
   ],
   "source": [
    "#The items() method returns a view object that displays a list of dictionary's (key, value) tuple pairs.\n",
    "dict1.items()"
   ]
  },
  {
   "cell_type": "code",
   "execution_count": 3524,
   "id": "a14dc789-c274-4105-b0c6-57b69f9f0b13",
   "metadata": {},
   "outputs": [
    {
     "data": {
      "text/plain": [
       "2018"
      ]
     },
     "execution_count": 3524,
     "metadata": {},
     "output_type": "execute_result"
    }
   ],
   "source": [
    "#The pop() method removes and returns an element from a dictionary having the given key.\n",
    "dict1.pop(\"BMW\")"
   ]
  },
  {
   "cell_type": "code",
   "execution_count": 3525,
   "id": "daf912a0-62e1-4dee-b1a0-28c3b4bd2230",
   "metadata": {},
   "outputs": [
    {
     "data": {
      "text/plain": [
       "('Mercedez', 2021)"
      ]
     },
     "execution_count": 3525,
     "metadata": {},
     "output_type": "execute_result"
    }
   ],
   "source": [
    "#The popitem() doesn't take any parameters.The popitem() method removes and returns the (key, value) pair from\n",
    "#the dictionary in the Last In, First Out (LIFO) order. \n",
    "#- Returns the latest inserted element (key,value) pair from the dictionary. \n",
    "#- Removes the returned element pair from the dictionary.\n",
    "dict1.popitem()"
   ]
  },
  {
   "cell_type": "code",
   "execution_count": 3526,
   "id": "0d57302b-8c3a-4f0d-8792-a363d85ceb4e",
   "metadata": {},
   "outputs": [
    {
     "data": {
      "text/plain": [
       "2015"
      ]
     },
     "execution_count": 3526,
     "metadata": {},
     "output_type": "execute_result"
    }
   ],
   "source": [
    "#How setdefault() works when key is in the dictionary?\n",
    "dict1.setdefault(\"Audi\")"
   ]
  },
  {
   "cell_type": "code",
   "execution_count": 3527,
   "id": "04cb3e3a-a079-409f-814a-b93a6dbba3e2",
   "metadata": {},
   "outputs": [],
   "source": [
    "#How setdefault() works when key is not in the dictionary?"
   ]
  },
  {
   "cell_type": "code",
   "execution_count": 3528,
   "id": "8fb4ff85-c41e-4328-a40f-23296208764e",
   "metadata": {
    "scrolled": true
   },
   "outputs": [
    {
     "data": {
      "text/plain": [
       "{'volkswagen': 2024, 'Audi': 2015, 'gypsum plates': 5, 'cement': 5, 'paint': 5}"
      ]
     },
     "execution_count": 3528,
     "metadata": {},
     "output_type": "execute_result"
    }
   ],
   "source": [
    "#The update() method updates the dictionary with the elements from another dictionary object or from an iterable of key/value pairs.\n",
    "#method of concatenate in dictionaries\n",
    "dict1.update(dict2)\n",
    "dict1"
   ]
  },
  {
   "cell_type": "code",
   "execution_count": 3529,
   "id": "7f766ef4-1907-4e63-9cb8-a1b35b207fc3",
   "metadata": {},
   "outputs": [
    {
     "data": {
      "text/plain": [
       "{'volkswagen': 2024, 'Audi': 2015, 'gypsum plates': 5, 'cement': 5, 'paint': 5}"
      ]
     },
     "execution_count": 3529,
     "metadata": {},
     "output_type": "execute_result"
    }
   ],
   "source": [
    "dict1.update(dict2)\n",
    "dict1"
   ]
  },
  {
   "cell_type": "code",
   "execution_count": 3530,
   "id": "2832fd76-1ad6-4a24-8f04-417df7d238af",
   "metadata": {},
   "outputs": [
    {
     "data": {
      "text/plain": [
       "{}"
      ]
     },
     "execution_count": 3530,
     "metadata": {},
     "output_type": "execute_result"
    }
   ],
   "source": [
    "dict1.clear()\n",
    "dict1"
   ]
  },
  {
   "cell_type": "markdown",
   "id": "034713e3-0519-4e19-b193-e6bc4232e8d3",
   "metadata": {},
   "source": [
    "### Set fuctions\n",
    "- In set we have any element in structure, **elements** are *int, float, str* **boolean not printed**"
   ]
  },
  {
   "cell_type": "code",
   "execution_count": 3532,
   "id": "86ea7dc0-8f34-46ad-aabc-b6e129a6f071",
   "metadata": {},
   "outputs": [
    {
     "data": {
      "text/plain": [
       "{2024, 22.5, False, 'huawei', 'iphone', 'samsung'}"
      ]
     },
     "execution_count": 3532,
     "metadata": {},
     "output_type": "execute_result"
    }
   ],
   "source": [
    "s1= {2024, \"iphone\", \"samsung\", \"huawei\", 22.5, False}\n",
    "s1"
   ]
  },
  {
   "cell_type": "code",
   "execution_count": 3533,
   "id": "df43a9ea-edc9-44b8-989c-1af842fad8e7",
   "metadata": {},
   "outputs": [
    {
     "data": {
      "text/plain": [
       "set"
      ]
     },
     "execution_count": 3533,
     "metadata": {},
     "output_type": "execute_result"
    }
   ],
   "source": [
    "type(s1)"
   ]
  },
  {
   "cell_type": "code",
   "execution_count": 3534,
   "id": "80883045-811b-4061-a507-b0093d956d55",
   "metadata": {},
   "outputs": [
    {
     "data": {
      "text/plain": [
       "6"
      ]
     },
     "execution_count": 3534,
     "metadata": {},
     "output_type": "execute_result"
    }
   ],
   "source": [
    "len(s1)"
   ]
  },
  {
   "cell_type": "code",
   "execution_count": 3535,
   "id": "ebf47586-1136-4642-886f-f0baa3b1046c",
   "metadata": {},
   "outputs": [
    {
     "data": {
      "text/plain": [
       "{2024, 22.5, False, 'battery', 'huawei', 'iphone', 'samsung'}"
      ]
     },
     "execution_count": 3535,
     "metadata": {},
     "output_type": "execute_result"
    }
   ],
   "source": [
    "#The add() method adds a given element to a set. If the element is already present, it doesn't add any element. \"no duplication\"\n",
    "s1.add(\"battery\")\n",
    "s1"
   ]
  },
  {
   "cell_type": "code",
   "execution_count": 3536,
   "id": "9ef5074c-53ee-4d28-bae8-13fdbeefea8a",
   "metadata": {},
   "outputs": [
    {
     "data": {
      "text/plain": [
       "{2024, 22.5, 'battery', 'huawei', 'iphone', 'samsung'}"
      ]
     },
     "execution_count": 3536,
     "metadata": {},
     "output_type": "execute_result"
    }
   ],
   "source": [
    "#The remove() method removes the specified element from the set.\n",
    "s1.remove(False)\n",
    "s1"
   ]
  },
  {
   "cell_type": "code",
   "execution_count": 3537,
   "id": "c1738729-db0c-41c3-8501-41c8f85b2702",
   "metadata": {},
   "outputs": [
    {
     "data": {
      "text/plain": [
       "{2024, 22.5, 'battery', 'huawei', 'iphone', 'samsung'}"
      ]
     },
     "execution_count": 3537,
     "metadata": {},
     "output_type": "execute_result"
    }
   ],
   "source": [
    "#The copy() method returns a copy of the set.\n",
    "copy_set = s1.copy()\n",
    "copy_set"
   ]
  },
  {
   "cell_type": "code",
   "execution_count": 3538,
   "id": "70f63907-31b1-4f7b-82cf-acdfaa80c845",
   "metadata": {},
   "outputs": [
    {
     "data": {
      "text/plain": [
       "{2024, 22.5, 'battery', 'huawei', 'iphone', 'samsung'}"
      ]
     },
     "execution_count": 3538,
     "metadata": {},
     "output_type": "execute_result"
    }
   ],
   "source": [
    "#The difference() method computes the difference of two sets and returns items that are unique to the first set.\n",
    "s1"
   ]
  },
  {
   "cell_type": "code",
   "execution_count": 3539,
   "id": "52fa1b0e-734a-4cca-a94e-33cfe66e958b",
   "metadata": {},
   "outputs": [
    {
     "data": {
      "text/plain": [
       "{2025, 23.5, False, 'huawei', 'iphone', 'samsung'}"
      ]
     },
     "execution_count": 3539,
     "metadata": {},
     "output_type": "execute_result"
    }
   ],
   "source": [
    "s2 ={2025, \"iphone\", \"samsung\", \"huawei\", 23.5, False}\n",
    "s2"
   ]
  },
  {
   "cell_type": "code",
   "execution_count": 3540,
   "id": "4409831d-fb68-433b-80d8-17f481611b2b",
   "metadata": {},
   "outputs": [
    {
     "data": {
      "text/plain": [
       "{2024, 22.5, 'battery'}"
      ]
     },
     "execution_count": 3540,
     "metadata": {},
     "output_type": "execute_result"
    }
   ],
   "source": [
    "s1.difference(s2)"
   ]
  },
  {
   "cell_type": "code",
   "execution_count": 3541,
   "id": "a273c094-7667-4c95-ba22-f1f9443d091d",
   "metadata": {},
   "outputs": [
    {
     "data": {
      "text/plain": [
       "{2024, 22.5, 'battery', 'huawei', 'iphone', 'samsung'}"
      ]
     },
     "execution_count": 3541,
     "metadata": {},
     "output_type": "execute_result"
    }
   ],
   "source": [
    "s1"
   ]
  },
  {
   "cell_type": "code",
   "execution_count": 3542,
   "id": "6afb1c97-ab4a-4fca-97ff-8b10b5975584",
   "metadata": {},
   "outputs": [
    {
     "data": {
      "text/plain": [
       "{2024, 22.5, 'battery'}"
      ]
     },
     "execution_count": 3542,
     "metadata": {},
     "output_type": "execute_result"
    }
   ],
   "source": [
    "#The difference_update() method computes the difference between two sets (A - B) and updates set A with the resulting set.\n",
    "s1.difference_update(s2)\n",
    "s1"
   ]
  },
  {
   "cell_type": "code",
   "execution_count": 3543,
   "id": "08a879d6-8724-48fc-927a-378c4f28d6b0",
   "metadata": {},
   "outputs": [
    {
     "data": {
      "text/plain": [
       "{22.5, 2024}"
      ]
     },
     "execution_count": 3543,
     "metadata": {},
     "output_type": "execute_result"
    }
   ],
   "source": [
    "#The discard() method removes the specified item from the set.\n",
    "s1.discard(\"battery\")\n",
    "s1"
   ]
  },
  {
   "cell_type": "code",
   "execution_count": 3544,
   "id": "1bef2001-68fa-4e81-bc0e-a2f6f0a23d32",
   "metadata": {},
   "outputs": [
    {
     "data": {
      "text/plain": [
       "{2024, 22.5, False, 'huawei', 'iphone', 'samsung'}"
      ]
     },
     "execution_count": 3544,
     "metadata": {},
     "output_type": "execute_result"
    }
   ],
   "source": [
    "#The intersection() method returns a new set with elements that are common to all sets.\n",
    "s3= {2024, \"iphone\", \"samsung\", \"huawei\", 22.5, False}\n",
    "s3"
   ]
  },
  {
   "cell_type": "code",
   "execution_count": 3545,
   "id": "3df0ed2c-9aa0-4efc-bf52-861a3fa86d63",
   "metadata": {},
   "outputs": [
    {
     "data": {
      "text/plain": [
       "{2025, 23.5, False, 'huawei', 'iphone', 'samsung'}"
      ]
     },
     "execution_count": 3545,
     "metadata": {},
     "output_type": "execute_result"
    }
   ],
   "source": [
    "s2"
   ]
  },
  {
   "cell_type": "code",
   "execution_count": 3546,
   "id": "0c5a64d9-6bb3-47ad-aa47-ca84c98581c7",
   "metadata": {},
   "outputs": [
    {
     "data": {
      "text/plain": [
       "{False, 'huawei', 'iphone', 'samsung'}"
      ]
     },
     "execution_count": 3546,
     "metadata": {},
     "output_type": "execute_result"
    }
   ],
   "source": [
    "s2.intersection(s3)"
   ]
  },
  {
   "cell_type": "code",
   "execution_count": 3547,
   "id": "2d5db2fc-dd48-4895-8238-2b6da1463e6f",
   "metadata": {},
   "outputs": [
    {
     "data": {
      "text/plain": [
       "{2025, 23.5, False, 'huawei', 'iphone', 'samsung'}"
      ]
     },
     "execution_count": 3547,
     "metadata": {},
     "output_type": "execute_result"
    }
   ],
   "source": [
    "s2"
   ]
  },
  {
   "cell_type": "code",
   "execution_count": 3548,
   "id": "7e5346e3-3dec-4b65-bd39-a718af316ead",
   "metadata": {},
   "outputs": [
    {
     "data": {
      "text/plain": [
       "{False, 'huawei', 'iphone', 'samsung'}"
      ]
     },
     "execution_count": 3548,
     "metadata": {},
     "output_type": "execute_result"
    }
   ],
   "source": [
    "#The intersection_update() finds the intersection of different sets and updates it to the set that calls the method.\n",
    "s2.intersection_update(s3)\n",
    "s2"
   ]
  },
  {
   "cell_type": "code",
   "execution_count": 3549,
   "id": "6d695cbf-2320-4f8f-af3f-f5abec727007",
   "metadata": {},
   "outputs": [
    {
     "data": {
      "text/plain": [
       "{False, 'huawei', 'iphone', 'samsung'}"
      ]
     },
     "execution_count": 3549,
     "metadata": {},
     "output_type": "execute_result"
    }
   ],
   "source": [
    "s2"
   ]
  },
  {
   "cell_type": "code",
   "execution_count": 3550,
   "id": "5686d910-ab10-4989-9b28-a59eebf97260",
   "metadata": {},
   "outputs": [
    {
     "data": {
      "text/plain": [
       "True"
      ]
     },
     "execution_count": 3550,
     "metadata": {},
     "output_type": "execute_result"
    }
   ],
   "source": [
    "#The isdisjoint() method returns True if two sets don't have any common items between them, i.e. they are disjoint. Else the returns False.\n",
    "s1.isdisjoint(s2)"
   ]
  },
  {
   "cell_type": "code",
   "execution_count": 3551,
   "id": "43d20ea0-449d-498c-8088-242fa6ae1443",
   "metadata": {},
   "outputs": [
    {
     "data": {
      "text/plain": [
       "True"
      ]
     },
     "execution_count": 3551,
     "metadata": {},
     "output_type": "execute_result"
    }
   ],
   "source": [
    "#The issubset() method returns True if set A is the subset of B, i.e. if all the elements of set A are present in set B . Else, it returns False.\n",
    "s2.issubset(s3)"
   ]
  },
  {
   "cell_type": "code",
   "execution_count": 3635,
   "id": "e5ad1253-3da5-431f-a3a4-d52a227b9dd3",
   "metadata": {},
   "outputs": [
    {
     "data": {
      "text/plain": [
       "'iphone'"
      ]
     },
     "execution_count": 3635,
     "metadata": {},
     "output_type": "execute_result"
    }
   ],
   "source": [
    "#The pop() method removes an item from a set and returns the removed item.\n",
    "s2.pop()"
   ]
  },
  {
   "cell_type": "code",
   "execution_count": 3553,
   "id": "318085b6-11be-498c-b1da-1838ac30fe28",
   "metadata": {},
   "outputs": [
    {
     "data": {
      "text/plain": [
       "{'huawei', 'iphone', 'samsung'}"
      ]
     },
     "execution_count": 3553,
     "metadata": {},
     "output_type": "execute_result"
    }
   ],
   "source": [
    "s2"
   ]
  },
  {
   "cell_type": "code",
   "execution_count": 3554,
   "id": "2b25c156-67b8-4fed-b91b-a9b4cd1dfa28",
   "metadata": {},
   "outputs": [
    {
     "data": {
      "text/plain": [
       "{2024, 22.5, False, 'huawei', 'iphone', 'samsung'}"
      ]
     },
     "execution_count": 3554,
     "metadata": {},
     "output_type": "execute_result"
    }
   ],
   "source": [
    "s3"
   ]
  },
  {
   "cell_type": "code",
   "execution_count": 3555,
   "id": "e5f6a194-4a26-42e2-922e-bf769099012b",
   "metadata": {},
   "outputs": [
    {
     "data": {
      "text/plain": [
       "{False, 22.5, 2024}"
      ]
     },
     "execution_count": 3555,
     "metadata": {},
     "output_type": "execute_result"
    }
   ],
   "source": [
    "#The symmetric_difference() method returns all the items present in given sets, except the items in their intersections.\n",
    "s2.symmetric_difference(s3)"
   ]
  },
  {
   "cell_type": "code",
   "execution_count": 3556,
   "id": "ba69911b-fab2-421b-8b26-e1576ff2abd2",
   "metadata": {},
   "outputs": [
    {
     "data": {
      "text/plain": [
       "{False, 22.5, 2024}"
      ]
     },
     "execution_count": 3556,
     "metadata": {},
     "output_type": "execute_result"
    }
   ],
   "source": [
    "#The symmetric_difference_update() method finds the symmetric difference of two sets\n",
    "#(non-similar items of both sets) and updates it to the set that calls the method.\n",
    "s2.symmetric_difference_update(s3)\n",
    "s2"
   ]
  },
  {
   "cell_type": "code",
   "execution_count": 3557,
   "id": "4831b068-ae77-4414-89b5-537b6da90038",
   "metadata": {},
   "outputs": [
    {
     "data": {
      "text/plain": [
       "{False, 22.5, 2024}"
      ]
     },
     "execution_count": 3557,
     "metadata": {},
     "output_type": "execute_result"
    }
   ],
   "source": [
    "s2"
   ]
  },
  {
   "cell_type": "code",
   "execution_count": 3558,
   "id": "963085a7-f482-40fd-b476-e02d02a5a655",
   "metadata": {},
   "outputs": [
    {
     "data": {
      "text/plain": [
       "{2024, 22.5, False, 'huawei', 'iphone', 'samsung'}"
      ]
     },
     "execution_count": 3558,
     "metadata": {},
     "output_type": "execute_result"
    }
   ],
   "source": [
    "#The Python set union() method returns a new set with distinct elements from all the sets.\n",
    "s2.union(s3)"
   ]
  },
  {
   "cell_type": "code",
   "execution_count": 3559,
   "id": "c9fe637e-6b71-4640-aa02-79e79f2c5c1d",
   "metadata": {},
   "outputs": [
    {
     "data": {
      "text/plain": [
       "{2024, 22.5, False, 'huawei', 'iphone', 'samsung'}"
      ]
     },
     "execution_count": 3559,
     "metadata": {},
     "output_type": "execute_result"
    }
   ],
   "source": [
    "#The Python set update() method updates the set, adding items from other iterables. concatenates\n",
    "s2.update(s3)\n",
    "s2"
   ]
  }
 ],
 "metadata": {
  "kernelspec": {
   "display_name": "Python 3 (ipykernel)",
   "language": "python",
   "name": "python3"
  },
  "language_info": {
   "codemirror_mode": {
    "name": "ipython",
    "version": 3
   },
   "file_extension": ".py",
   "mimetype": "text/x-python",
   "name": "python",
   "nbconvert_exporter": "python",
   "pygments_lexer": "ipython3",
   "version": "3.12.4"
  }
 },
 "nbformat": 4,
 "nbformat_minor": 5
}
