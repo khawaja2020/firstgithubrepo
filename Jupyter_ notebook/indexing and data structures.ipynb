{
 "cells": [
  {
   "cell_type": "markdown",
   "id": "84021c61-c16f-4d56-b457-6cba3dd911d8",
   "metadata": {},
   "source": [
    "# - Indexing"
   ]
  },
  {
   "cell_type": "code",
   "execution_count": 2,
   "id": "356095af-8a44-40e4-969f-809879e87af3",
   "metadata": {},
   "outputs": [
    {
     "data": {
      "text/plain": [
       "'Samosa Pakori'"
      ]
     },
     "execution_count": 2,
     "metadata": {},
     "output_type": "execute_result"
    }
   ],
   "source": [
    "# make a string\n",
    "a = \"Samosa Pakori\" #space is also index, #indexing start from '0'\n",
    "a"
   ]
  },
  {
   "cell_type": "code",
   "execution_count": 3,
   "id": "eae974d2-6e4c-409d-8e2f-3cc723253f1a",
   "metadata": {},
   "outputs": [
    {
     "data": {
      "text/plain": [
       "13"
      ]
     },
     "execution_count": 3,
     "metadata": {},
     "output_type": "execute_result"
    }
   ],
   "source": [
    "# length of index\n",
    "len(a)"
   ]
  },
  {
   "cell_type": "code",
   "execution_count": 4,
   "id": "210c65d9-90be-45ea-9f98-33ef1a5ba396",
   "metadata": {},
   "outputs": [
    {
     "data": {
      "text/plain": [
       "'S'"
      ]
     },
     "execution_count": 4,
     "metadata": {},
     "output_type": "execute_result"
    }
   ],
   "source": [
    "a[0] "
   ]
  },
  {
   "cell_type": "code",
   "execution_count": 5,
   "id": "ee107089-1c3a-4495-9e21-a136583b026e",
   "metadata": {},
   "outputs": [
    {
     "data": {
      "text/plain": [
       "'a'"
      ]
     },
     "execution_count": 5,
     "metadata": {},
     "output_type": "execute_result"
    }
   ],
   "source": [
    "a[1]"
   ]
  },
  {
   "cell_type": "code",
   "execution_count": 6,
   "id": "32a569d7-1367-4f4a-bf45-3e1b6fc1f1b4",
   "metadata": {
    "scrolled": true
   },
   "outputs": [
    {
     "data": {
      "text/plain": [
       "'o'"
      ]
     },
     "execution_count": 6,
     "metadata": {},
     "output_type": "execute_result"
    }
   ],
   "source": [
    "a[3]"
   ]
  },
  {
   "cell_type": "code",
   "execution_count": 7,
   "id": "68dce984-9652-4d36-8d70-b6cdc07b7980",
   "metadata": {},
   "outputs": [],
   "source": [
    "# index is the number and len is count of the numbers"
   ]
  },
  {
   "cell_type": "code",
   "execution_count": 8,
   "id": "b19da3db-6b23-4ec0-b110-f9634236f1f4",
   "metadata": {},
   "outputs": [
    {
     "data": {
      "text/plain": [
       "'i'"
      ]
     },
     "execution_count": 8,
     "metadata": {},
     "output_type": "execute_result"
    }
   ],
   "source": [
    "# a[13] is incorrect, do not confuse len with index[] because index starts from 0, so the correct one is:\n",
    "a[12] # the outcome i is last word of pakora being 12th index."
   ]
  },
  {
   "cell_type": "code",
   "execution_count": 9,
   "id": "749ec5e1-9f74-4581-aa4a-af5325138c36",
   "metadata": {},
   "outputs": [
    {
     "data": {
      "text/plain": [
       "'Samos'"
      ]
     },
     "execution_count": 9,
     "metadata": {},
     "output_type": "execute_result"
    }
   ],
   "source": [
    "# last index is exclusive\n",
    "a[0:5]"
   ]
  },
  {
   "cell_type": "code",
   "execution_count": 10,
   "id": "e09dfca3-c788-4b8d-8bfc-70a2f73bccd7",
   "metadata": {},
   "outputs": [
    {
     "data": {
      "text/plain": [
       "'Samosa'"
      ]
     },
     "execution_count": 10,
     "metadata": {},
     "output_type": "execute_result"
    }
   ],
   "source": [
    "a[0:6]"
   ]
  },
  {
   "cell_type": "code",
   "execution_count": 11,
   "id": "b2c8c698-1a9f-4c0e-a853-8e97fdb84eea",
   "metadata": {
    "scrolled": true
   },
   "outputs": [
    {
     "data": {
      "text/plain": [
       "'Samosa Pakori'"
      ]
     },
     "execution_count": 11,
     "metadata": {},
     "output_type": "execute_result"
    }
   ],
   "source": [
    "a[0:13] #len is 13 imortant to know for range as 13th is exclusive"
   ]
  },
  {
   "cell_type": "code",
   "execution_count": 12,
   "id": "66eb60d9-c549-439e-b491-c8306f6ae3a5",
   "metadata": {},
   "outputs": [
    {
     "data": {
      "text/plain": [
       "'i'"
      ]
     },
     "execution_count": 12,
     "metadata": {},
     "output_type": "execute_result"
    }
   ],
   "source": [
    "a[-1] #indexing start in reverse direction"
   ]
  },
  {
   "cell_type": "code",
   "execution_count": 13,
   "id": "356bb07e-31a2-4097-a12d-56c69d834752",
   "metadata": {
    "scrolled": true
   },
   "outputs": [
    {
     "data": {
      "text/plain": [
       "'Pakor'"
      ]
     },
     "execution_count": 13,
     "metadata": {},
     "output_type": "execute_result"
    }
   ],
   "source": [
    "a[-6:-1] # not[-1:-6], always comes higher number after :"
   ]
  },
  {
   "cell_type": "code",
   "execution_count": 14,
   "id": "5ae863d3-6719-4d48-a198-87fc7154f36e",
   "metadata": {},
   "outputs": [
    {
     "data": {
      "text/plain": [
       "'Pakori'"
      ]
     },
     "execution_count": 14,
     "metadata": {},
     "output_type": "execute_result"
    }
   ],
   "source": [
    "a[-6:13]"
   ]
  },
  {
   "cell_type": "markdown",
   "id": "bff98f50-7f6b-43ab-8ffb-f660de5520b0",
   "metadata": {},
   "source": [
    "# string methods"
   ]
  },
  {
   "cell_type": "code",
   "execution_count": 16,
   "id": "03040521-9134-4328-b2a7-dd31a25e38fd",
   "metadata": {},
   "outputs": [
    {
     "data": {
      "text/plain": [
       "'biryani'"
      ]
     },
     "execution_count": 16,
     "metadata": {},
     "output_type": "execute_result"
    }
   ],
   "source": [
    "food1 = \"biryani\"\n",
    "food1"
   ]
  },
  {
   "cell_type": "code",
   "execution_count": 17,
   "id": "84d36223-c4ed-417e-a2c3-5d98d9710c1e",
   "metadata": {},
   "outputs": [
    {
     "data": {
      "text/plain": [
       "'biryani'"
      ]
     },
     "execution_count": 17,
     "metadata": {},
     "output_type": "execute_result"
    }
   ],
   "source": [
    "food1"
   ]
  },
  {
   "cell_type": "code",
   "execution_count": 18,
   "id": "c4d84903-8425-413d-bff0-deabac294e4a",
   "metadata": {},
   "outputs": [
    {
     "data": {
      "text/plain": [
       "7"
      ]
     },
     "execution_count": 18,
     "metadata": {},
     "output_type": "execute_result"
    }
   ],
   "source": [
    "len(food1)"
   ]
  },
  {
   "cell_type": "code",
   "execution_count": 19,
   "id": "f0b27f94-83bd-4872-9e04-391ab7cbf7eb",
   "metadata": {
    "scrolled": true
   },
   "outputs": [
    {
     "data": {
      "text/plain": [
       "'biryani'"
      ]
     },
     "execution_count": 19,
     "metadata": {},
     "output_type": "execute_result"
    }
   ],
   "source": [
    "food1[0:7] #based on len"
   ]
  },
  {
   "cell_type": "code",
   "execution_count": 20,
   "id": "0536a10a-56a3-4659-836e-e0e44161aaea",
   "metadata": {},
   "outputs": [
    {
     "data": {
      "text/plain": [
       "'yani'"
      ]
     },
     "execution_count": 20,
     "metadata": {},
     "output_type": "execute_result"
    }
   ],
   "source": [
    "food1[-4:7]"
   ]
  },
  {
   "cell_type": "code",
   "execution_count": 21,
   "id": "d79cacbe-4dae-4e1c-80ca-a91fdcd4a21a",
   "metadata": {
    "scrolled": true
   },
   "outputs": [
    {
     "data": {
      "text/plain": [
       "'Biryani'"
      ]
     },
     "execution_count": 21,
     "metadata": {},
     "output_type": "execute_result"
    }
   ],
   "source": [
    "#capitalize elements, press tab to enter methods\n",
    "food1.capitalize()"
   ]
  },
  {
   "cell_type": "code",
   "execution_count": 22,
   "id": "7e153279-a182-4304-b7eb-2403f31cc2bb",
   "metadata": {},
   "outputs": [
    {
     "data": {
      "text/plain": [
       "'BIRYANI'"
      ]
     },
     "execution_count": 22,
     "metadata": {},
     "output_type": "execute_result"
    }
   ],
   "source": [
    "#uppercase letters\n",
    "food1.upper()"
   ]
  },
  {
   "cell_type": "code",
   "execution_count": 23,
   "id": "84e2456c-6354-4245-8084-fe823350343e",
   "metadata": {},
   "outputs": [
    {
     "data": {
      "text/plain": [
       "'biryani'"
      ]
     },
     "execution_count": 23,
     "metadata": {},
     "output_type": "execute_result"
    }
   ],
   "source": [
    "#lowecase letters\n",
    "food1.lower()"
   ]
  },
  {
   "cell_type": "code",
   "execution_count": 24,
   "id": "a7015d34-ce08-4653-af67-d00cb8d50f3e",
   "metadata": {},
   "outputs": [
    {
     "data": {
      "text/plain": [
       "'shiryani'"
      ]
     },
     "execution_count": 24,
     "metadata": {},
     "output_type": "execute_result"
    }
   ],
   "source": [
    "food1.replace(\"b\",\"sh\") "
   ]
  },
  {
   "cell_type": "code",
   "execution_count": 25,
   "id": "7eb39f56-350a-4a56-a591-c5ae296c1852",
   "metadata": {},
   "outputs": [
    {
     "data": {
      "text/plain": [
       "'baba_aammar with Dr Aammar Tufail'"
      ]
     },
     "execution_count": 25,
     "metadata": {},
     "output_type": "execute_result"
    }
   ],
   "source": [
    "# Counting a specific alphabet in string\n",
    "name = \"baba_aammar with Dr Aammar Tufail\"\n",
    "name"
   ]
  },
  {
   "cell_type": "code",
   "execution_count": 26,
   "id": "2adf9aa1-91fa-4769-8150-1f1b167073cc",
   "metadata": {},
   "outputs": [
    {
     "data": {
      "text/plain": [
       "2"
      ]
     },
     "execution_count": 26,
     "metadata": {},
     "output_type": "execute_result"
    }
   ],
   "source": [
    "#name.count(\"A\")\n",
    "#name.count(\"a\") #is case sensitive\n",
    "name.count(\"mm\") # also can be combinantion"
   ]
  },
  {
   "cell_type": "markdown",
   "id": "6df049c0-8399-416b-a0aa-f139b9514fa8",
   "metadata": {},
   "source": [
    "### finding index number in string"
   ]
  },
  {
   "cell_type": "code",
   "execution_count": 28,
   "id": "f57ebbbf-0a86-4f79-8a74-fd5fd7acc63d",
   "metadata": {},
   "outputs": [
    {
     "data": {
      "text/plain": [
       "'baba_aammar with Dr Aammar Tufail'"
      ]
     },
     "execution_count": 28,
     "metadata": {},
     "output_type": "execute_result"
    }
   ],
   "source": [
    "name = \"baba_aammar with Dr Aammar Tufail\"\n",
    "name"
   ]
  },
  {
   "cell_type": "code",
   "execution_count": 29,
   "id": "ca2f782e-5a30-4a01-b8ca-d8aa281600ab",
   "metadata": {
    "scrolled": true
   },
   "outputs": [
    {
     "data": {
      "text/plain": [
       "1"
      ]
     },
     "execution_count": 29,
     "metadata": {},
     "output_type": "execute_result"
    }
   ],
   "source": [
    "name.find(\"a\") #repetition of alphabets shows 1st alphabet index number"
   ]
  },
  {
   "cell_type": "code",
   "execution_count": 30,
   "id": "fb57c2a4-2df9-4d0f-89b6-8534767b29ef",
   "metadata": {},
   "outputs": [
    {
     "data": {
      "text/plain": [
       "'I love samosa, pakora, raita, biryani and karahi'"
      ]
     },
     "execution_count": 30,
     "metadata": {},
     "output_type": "execute_result"
    }
   ],
   "source": [
    "# How to split a string\n",
    "food= \"I love samosa, pakora, raita, biryani and karahi\"\n",
    "food"
   ]
  },
  {
   "cell_type": "code",
   "execution_count": 31,
   "id": "589c9dff-cc42-41ca-8a58-2f1453b36b6c",
   "metadata": {},
   "outputs": [
    {
     "data": {
      "text/plain": [
       "['I love samosa', ' pakora', ' raita', ' biryani and karahi']"
      ]
     },
     "execution_count": 31,
     "metadata": {},
     "output_type": "execute_result"
    }
   ],
   "source": [
    "food.split(\",\") # we can split string based on specific character, it will split elements."
   ]
  },
  {
   "cell_type": "markdown",
   "id": "f1f0aff9-b21a-42bd-8adc-563c4cb77889",
   "metadata": {},
   "source": [
    "# Basic data structure in Python\n",
    "**1- Tuple**\n",
    "\n",
    "**2- List**\n",
    "\n",
    "**3- Dictionaries**\n",
    "\n",
    "**4- Set**"
   ]
  },
  {
   "cell_type": "markdown",
   "id": "bbcb9bd5-6834-418d-a716-0719ee193654",
   "metadata": {},
   "source": [
    "## 1- Tuple\n",
    "Charatersitics of tuples\n",
    "- ordered collection of elements\n",
    "- enclosed in () round braces/paranthesis\n",
    "- different kind of elements can be stored **(int, float, boolean/logical operators, strings)** \n",
    "- once elements are stored cannot be changed (Unmutateable), **we cannot use replace or update functions**"
   ]
  },
  {
   "cell_type": "code",
   "execution_count": 34,
   "id": "9205546d-f518-4058-ab1b-7eae27ac0127",
   "metadata": {},
   "outputs": [
    {
     "data": {
      "text/plain": [
       "(1, 'python', True, 2.5)"
      ]
     },
     "execution_count": 34,
     "metadata": {},
     "output_type": "execute_result"
    }
   ],
   "source": [
    "tup1 = (1, \"python\", True, 2.5)\n",
    "tup1"
   ]
  },
  {
   "cell_type": "code",
   "execution_count": 35,
   "id": "b94c9393-f2bd-47de-b928-a0d3630275bb",
   "metadata": {},
   "outputs": [
    {
     "data": {
      "text/plain": [
       "tuple"
      ]
     },
     "execution_count": 35,
     "metadata": {},
     "output_type": "execute_result"
    }
   ],
   "source": [
    "# type of a tuple\n",
    "type(tup1)"
   ]
  },
  {
   "cell_type": "markdown",
   "id": "c8539889-250c-47f7-89ec-53b9bbea0e62",
   "metadata": {},
   "source": [
    "### - indexing in tuple"
   ]
  },
  {
   "cell_type": "code",
   "execution_count": 37,
   "id": "a7ac2603-9b52-4c66-8819-e48f377d4c0e",
   "metadata": {},
   "outputs": [
    {
     "data": {
      "text/plain": [
       "2.5"
      ]
     },
     "execution_count": 37,
     "metadata": {},
     "output_type": "execute_result"
    }
   ],
   "source": [
    "tup1[3]"
   ]
  },
  {
   "cell_type": "code",
   "execution_count": 38,
   "id": "c890ff95-745d-4b8b-91ed-715797d1dc4a",
   "metadata": {},
   "outputs": [
    {
     "data": {
      "text/plain": [
       "4"
      ]
     },
     "execution_count": 38,
     "metadata": {},
     "output_type": "execute_result"
    }
   ],
   "source": [
    "#count elements in tuple\n",
    "len(tup1)"
   ]
  },
  {
   "cell_type": "code",
   "execution_count": 39,
   "id": "a3c42cac-42a9-402c-a6fd-b70dab529dd1",
   "metadata": {},
   "outputs": [
    {
     "data": {
      "text/plain": [
       "(1, 'python', True, 2.5)"
      ]
     },
     "execution_count": 39,
     "metadata": {},
     "output_type": "execute_result"
    }
   ],
   "source": [
    "#last element is exclusief\n",
    "tup1[0:5]"
   ]
  },
  {
   "cell_type": "code",
   "execution_count": 40,
   "id": "25bc9bee-a3b3-458d-a9d1-9e17b5e81022",
   "metadata": {},
   "outputs": [
    {
     "data": {
      "text/plain": [
       "(2, 'babaAmmar', 3.5, False)"
      ]
     },
     "execution_count": 40,
     "metadata": {},
     "output_type": "execute_result"
    }
   ],
   "source": [
    "tup2=(2, \"babaAmmar\", 3.5, False)\n",
    "tup2"
   ]
  },
  {
   "cell_type": "code",
   "execution_count": 41,
   "id": "d41d137b-ae45-409b-b8a8-e27d7dfb9255",
   "metadata": {},
   "outputs": [
    {
     "data": {
      "text/plain": [
       "(1, 'python', True, 2.5, 2, 'babaAmmar', 3.5, False)"
      ]
     },
     "execution_count": 41,
     "metadata": {},
     "output_type": "execute_result"
    }
   ],
   "source": [
    "#Concatination (to add two or >2 tuples)\n",
    "tup1+tup2"
   ]
  },
  {
   "cell_type": "code",
   "execution_count": 42,
   "id": "e9d89450-7d2c-4b3d-9dee-ce88b4c2745d",
   "metadata": {},
   "outputs": [
    {
     "data": {
      "text/plain": [
       "(1, 'python', True, 2.5, 1, 'python', True, 2.5, 2, 'babaAmmar', 3.5, False)"
      ]
     },
     "execution_count": 42,
     "metadata": {},
     "output_type": "execute_result"
    }
   ],
   "source": [
    "# Repetition en concatination tup*number is for repetition\n",
    "tup1*2+tup2"
   ]
  },
  {
   "cell_type": "code",
   "execution_count": 43,
   "id": "379cd433-8717-4641-8585-213ae224d2ac",
   "metadata": {},
   "outputs": [
    {
     "data": {
      "text/plain": [
       "(20, 50, 60, 70, 85)"
      ]
     },
     "execution_count": 43,
     "metadata": {},
     "output_type": "execute_result"
    }
   ],
   "source": [
    "tup3=(20,50,60,70,85)\n",
    "tup3"
   ]
  },
  {
   "cell_type": "code",
   "execution_count": 44,
   "id": "2fdd8208-34f3-4c47-b4aa-07649c39e2c8",
   "metadata": {},
   "outputs": [
    {
     "data": {
      "text/plain": [
       "20"
      ]
     },
     "execution_count": 44,
     "metadata": {},
     "output_type": "execute_result"
    }
   ],
   "source": [
    "min(tup3)"
   ]
  },
  {
   "cell_type": "code",
   "execution_count": 45,
   "id": "9f8cea87-f54e-495a-bd5d-0d0e6c069186",
   "metadata": {},
   "outputs": [
    {
     "data": {
      "text/plain": [
       "85"
      ]
     },
     "execution_count": 45,
     "metadata": {},
     "output_type": "execute_result"
    }
   ],
   "source": [
    "max(tup3)"
   ]
  },
  {
   "cell_type": "code",
   "execution_count": 46,
   "id": "dafe11a9-d8fb-4011-8ed7-8bb888ac7002",
   "metadata": {},
   "outputs": [
    {
     "data": {
      "text/plain": [
       "(20, 50, 60, 70, 85, 20, 50, 60, 70, 85)"
      ]
     },
     "execution_count": 46,
     "metadata": {},
     "output_type": "execute_result"
    }
   ],
   "source": [
    "#repetition\n",
    "tup3*2"
   ]
  },
  {
   "cell_type": "code",
   "execution_count": 47,
   "id": "e40ca6a5-6c50-4e05-a8e1-41a4c1bc99fc",
   "metadata": {},
   "outputs": [
    {
     "data": {
      "text/plain": [
       "(20, 50, 60, 70, 85, 2, 'babaAmmar', 3.5, False)"
      ]
     },
     "execution_count": 47,
     "metadata": {},
     "output_type": "execute_result"
    }
   ],
   "source": [
    "# can only concatenate tuple (not \"int\") to tuple tup3+2 will give error\n",
    "tup3+tup2"
   ]
  },
  {
   "cell_type": "markdown",
   "id": "5f15d642-a026-4f59-99b4-1287e752c0ee",
   "metadata": {},
   "source": [
    "## 2- List\n",
    "- ordered collection of elements\n",
    "- enclosed in [ ] square braces/brackets\n",
    "- Mutateable, you can change the values"
   ]
  },
  {
   "cell_type": "code",
   "execution_count": 49,
   "id": "79aa0e83-9048-4020-823b-135d9eeecb1a",
   "metadata": {},
   "outputs": [
    {
     "data": {
      "text/plain": [
       "[2, 'babaAmmar', False]"
      ]
     },
     "execution_count": 49,
     "metadata": {},
     "output_type": "execute_result"
    }
   ],
   "source": [
    "list1= [2, \"babaAmmar\", False]\n",
    "list1"
   ]
  },
  {
   "cell_type": "code",
   "execution_count": 50,
   "id": "72383e56-6ee8-4719-882f-b122052ff35b",
   "metadata": {},
   "outputs": [
    {
     "data": {
      "text/plain": [
       "list"
      ]
     },
     "execution_count": 50,
     "metadata": {},
     "output_type": "execute_result"
    }
   ],
   "source": [
    "type(list1)"
   ]
  },
  {
   "cell_type": "code",
   "execution_count": 51,
   "id": "ac38c89e-b182-41af-b035-101dd2d605d7",
   "metadata": {},
   "outputs": [
    {
     "data": {
      "text/plain": [
       "3"
      ]
     },
     "execution_count": 51,
     "metadata": {},
     "output_type": "execute_result"
    }
   ],
   "source": [
    "len(list1)"
   ]
  },
  {
   "cell_type": "code",
   "execution_count": 52,
   "id": "c719c6ab-4433-419c-8cce-52824ca2e65a",
   "metadata": {},
   "outputs": [
    {
     "data": {
      "text/plain": [
       "False"
      ]
     },
     "execution_count": 52,
     "metadata": {},
     "output_type": "execute_result"
    }
   ],
   "source": [
    "#index is 0 1 2\n",
    "list1[2]"
   ]
  },
  {
   "cell_type": "code",
   "execution_count": 53,
   "id": "15e55e6c-f3ab-4165-9aea-2aa562ff8e8b",
   "metadata": {},
   "outputs": [
    {
     "data": {
      "text/plain": [
       "[3, 5, 'Aammar', 'Codanics', 478, 53.2, False]"
      ]
     },
     "execution_count": 53,
     "metadata": {},
     "output_type": "execute_result"
    }
   ],
   "source": [
    "list2=[3, 5, \"Aammar\", \"Codanics\", 478, 53.2, False]\n",
    "list2"
   ]
  },
  {
   "cell_type": "code",
   "execution_count": 54,
   "id": "a7d377a6-67e4-45c9-8e55-061d3ae7bd37",
   "metadata": {},
   "outputs": [
    {
     "data": {
      "text/plain": [
       "[2, 'babaAmmar', False, 3, 5, 'Aammar', 'Codanics', 478, 53.2, False]"
      ]
     },
     "execution_count": 54,
     "metadata": {},
     "output_type": "execute_result"
    }
   ],
   "source": [
    "#Concatinate\n",
    "list1+list2"
   ]
  },
  {
   "cell_type": "code",
   "execution_count": 55,
   "id": "1e843ed1-0309-4000-90e9-5704422bbb54",
   "metadata": {},
   "outputs": [
    {
     "data": {
      "text/plain": [
       "[2, 'babaAmmar', False, 2, 'babaAmmar', False]"
      ]
     },
     "execution_count": 55,
     "metadata": {},
     "output_type": "execute_result"
    }
   ],
   "source": [
    "#repeat\n",
    "list1*2"
   ]
  },
  {
   "cell_type": "code",
   "execution_count": 56,
   "id": "8ebf8435-c60c-4b42-a3d8-60fbf23d2796",
   "metadata": {
    "scrolled": true
   },
   "outputs": [
    {
     "data": {
      "text/plain": [
       "[2, 'babaAmmar', False]"
      ]
     },
     "execution_count": 56,
     "metadata": {},
     "output_type": "execute_result"
    }
   ],
   "source": [
    "list1"
   ]
  },
  {
   "cell_type": "code",
   "execution_count": 57,
   "id": "674ef1eb-ac95-4beb-99df-18d70e1422bf",
   "metadata": {},
   "outputs": [
    {
     "data": {
      "text/plain": [
       "[False, 'babaAmmar', 2]"
      ]
     },
     "execution_count": 57,
     "metadata": {},
     "output_type": "execute_result"
    }
   ],
   "source": [
    "# reverse function\n",
    "list1.reverse()\n",
    "list1"
   ]
  },
  {
   "cell_type": "code",
   "execution_count": 58,
   "id": "bca2b070-97aa-47b6-a0da-c578d0caabd9",
   "metadata": {},
   "outputs": [
    {
     "data": {
      "text/plain": [
       "[False, 'babaAmmar', 2, 'Codanics youtube channel']"
      ]
     },
     "execution_count": 58,
     "metadata": {},
     "output_type": "execute_result"
    }
   ],
   "source": [
    "list1.append(\"Codanics youtube channel\")\n",
    "list1"
   ]
  },
  {
   "cell_type": "code",
   "execution_count": 169,
   "id": "46f972b6-ccc6-4e6b-bf4a-c65e24ae85c7",
   "metadata": {
    "scrolled": true
   },
   "outputs": [
    {
     "data": {
      "text/plain": [
       "1"
      ]
     },
     "execution_count": 169,
     "metadata": {},
     "output_type": "execute_result"
    }
   ],
   "source": [
    "# for count use exact element with int/boolean without \"\" en str with \"\" \n",
    "list1.count(2)"
   ]
  },
  {
   "cell_type": "code",
   "execution_count": 188,
   "id": "32a779d2-2605-4ff7-b7f4-96f3fbc38ea7",
   "metadata": {},
   "outputs": [
    {
     "data": {
      "text/plain": [
       "[20, 30, 35, 50, 40, 12, 15, 11, 36, 354, 56, 886]"
      ]
     },
     "execution_count": 188,
     "metadata": {},
     "output_type": "execute_result"
    }
   ],
   "source": [
    "list3=[20,30,35,50,40,12,15,11,36,354,56,886]\n",
    "list3"
   ]
  },
  {
   "cell_type": "code",
   "execution_count": 175,
   "id": "b06acb60-324f-485a-9642-47c74b8b5221",
   "metadata": {},
   "outputs": [
    {
     "data": {
      "text/plain": [
       "12"
      ]
     },
     "execution_count": 175,
     "metadata": {},
     "output_type": "execute_result"
    }
   ],
   "source": [
    "len(list3)"
   ]
  },
  {
   "cell_type": "code",
   "execution_count": 192,
   "id": "6c490f6d-2416-489d-9003-8fc3acae9dd2",
   "metadata": {},
   "outputs": [
    {
     "data": {
      "text/plain": [
       "[11, 12, 15, 20, 30, 35, 36, 40, 50, 56, 354, 886]"
      ]
     },
     "execution_count": 192,
     "metadata": {},
     "output_type": "execute_result"
    }
   ],
   "source": [
    "#sorting a list\n",
    "list3.sort()\n",
    "list3"
   ]
  },
  {
   "cell_type": "code",
   "execution_count": 196,
   "id": "aabf8101-8fbf-4423-8119-0e72a86d5813",
   "metadata": {},
   "outputs": [
    {
     "data": {
      "text/plain": [
       "[11,\n",
       " 12,\n",
       " 15,\n",
       " 20,\n",
       " 30,\n",
       " 35,\n",
       " 36,\n",
       " 40,\n",
       " 50,\n",
       " 56,\n",
       " 354,\n",
       " 886,\n",
       " 11,\n",
       " 12,\n",
       " 15,\n",
       " 20,\n",
       " 30,\n",
       " 35,\n",
       " 36,\n",
       " 40,\n",
       " 50,\n",
       " 56,\n",
       " 354,\n",
       " 886]"
      ]
     },
     "execution_count": 196,
     "metadata": {},
     "output_type": "execute_result"
    }
   ],
   "source": [
    "#Repeat\n",
    "list3*2"
   ]
  },
  {
   "cell_type": "code",
   "execution_count": 202,
   "id": "229527f8-f1f8-4a23-97d2-6458d32683e9",
   "metadata": {},
   "outputs": [
    {
     "data": {
      "text/plain": [
       "[False,\n",
       " 'babaAmmar',\n",
       " 2,\n",
       " 'Codanics youtube channel',\n",
       " 3,\n",
       " 5,\n",
       " 'Aammar',\n",
       " 'Codanics',\n",
       " 478,\n",
       " 53.2,\n",
       " False]"
      ]
     },
     "execution_count": 202,
     "metadata": {},
     "output_type": "execute_result"
    }
   ],
   "source": [
    "#Concatinate\n",
    "list1+list2"
   ]
  },
  {
   "cell_type": "code",
   "execution_count": 208,
   "id": "dd54f4b5-1f65-466d-bba5-c06e458168a6",
   "metadata": {},
   "outputs": [
    {
     "data": {
      "text/plain": [
       "[False,\n",
       " 'babaAmmar',\n",
       " 2,\n",
       " 'Codanics youtube channel',\n",
       " 3,\n",
       " 5,\n",
       " 'Aammar',\n",
       " 'Codanics',\n",
       " 478,\n",
       " 53.2,\n",
       " False,\n",
       " 11,\n",
       " 12,\n",
       " 15,\n",
       " 20,\n",
       " 30,\n",
       " 35,\n",
       " 36,\n",
       " 40,\n",
       " 50,\n",
       " 56,\n",
       " 354,\n",
       " 886]"
      ]
     },
     "execution_count": 208,
     "metadata": {},
     "output_type": "execute_result"
    }
   ],
   "source": [
    "#variable function\n",
    "lists=list1+list2+list3\n",
    "lists"
   ]
  },
  {
   "cell_type": "markdown",
   "id": "7e4bab39-d4ff-4e33-8c0a-8a2038a9a7b0",
   "metadata": {},
   "source": [
    "## 3- Dictionaries\n",
    "- An unordered collection of elements\n",
    "- \"Key\":values\n",
    "- curly { } braces or brackets\n",
    "- mutateable - change the values"
   ]
  },
  {
   "cell_type": "code",
   "execution_count": 239,
   "id": "c54bcb30-df32-4e59-9e75-f2e1d7b7fae4",
   "metadata": {},
   "outputs": [
    {
     "data": {
      "text/plain": [
       "{'Samosa': 30, 'Raita': 20, 'Pakora': 100, 'Salad': 50, 'Chicken Rolls': 30}"
      ]
     },
     "execution_count": 239,
     "metadata": {},
     "output_type": "execute_result"
    }
   ],
   "source": [
    "# Food and their prices\n",
    "food1= {\"Samosa\":30,\"Raita\":20,\"Pakora\":100,\"Salad\":50,\"Chicken Rolls\":30}\n",
    "food1"
   ]
  },
  {
   "cell_type": "code",
   "execution_count": 241,
   "id": "c45bdd1b-983e-4e86-8b20-5e51f5a92ddd",
   "metadata": {},
   "outputs": [
    {
     "data": {
      "text/plain": [
       "dict"
      ]
     },
     "execution_count": 241,
     "metadata": {},
     "output_type": "execute_result"
    }
   ],
   "source": [
    "type(food1)"
   ]
  },
  {
   "cell_type": "code",
   "execution_count": 243,
   "id": "991ee97c-aeb9-41af-965f-c4981d485891",
   "metadata": {},
   "outputs": [
    {
     "data": {
      "text/plain": [
       "dict_keys(['Samosa', 'Raita', 'Pakora', 'Salad', 'Chicken Rolls'])"
      ]
     },
     "execution_count": 243,
     "metadata": {},
     "output_type": "execute_result"
    }
   ],
   "source": [
    "#extract data\n",
    "keys1= food1.keys()\n",
    "keys1"
   ]
  },
  {
   "cell_type": "code",
   "execution_count": 247,
   "id": "a5c09fa9-cc1a-4726-85a3-23f0c4b0f794",
   "metadata": {},
   "outputs": [
    {
     "data": {
      "text/plain": [
       "dict_values([30, 20, 100, 50, 30])"
      ]
     },
     "execution_count": 247,
     "metadata": {},
     "output_type": "execute_result"
    }
   ],
   "source": [
    "#extract values\n",
    "values1=food1.values()\n",
    "values1"
   ]
  },
  {
   "cell_type": "code",
   "execution_count": 291,
   "id": "8a7ce473-c139-4374-bdcd-9c6ca9636a4e",
   "metadata": {},
   "outputs": [
    {
     "data": {
      "text/plain": [
       "{'Samosa': 30,\n",
       " 'Raita': 20,\n",
       " 'Pakora': 100,\n",
       " 'Salad': 50,\n",
       " 'Chicken Rolls': 30,\n",
       " 'Tikkie': 10}"
      ]
     },
     "execution_count": 291,
     "metadata": {},
     "output_type": "execute_result"
    }
   ],
   "source": [
    "#adding new element mutated\n",
    "food1[\"Tikkie\"]=10\n",
    "food1"
   ]
  },
  {
   "cell_type": "code",
   "execution_count": 299,
   "id": "83135570-3805-4173-99bb-6f4b73f7d66b",
   "metadata": {},
   "outputs": [
    {
     "data": {
      "text/plain": [
       "{'Samosa': 30,\n",
       " 'Raita': 20,\n",
       " 'Pakora': 100,\n",
       " 'Salad': 50,\n",
       " 'Chicken Rolls': 30,\n",
       " 'Tikkie': 15}"
      ]
     },
     "execution_count": 299,
     "metadata": {},
     "output_type": "execute_result"
    }
   ],
   "source": [
    "# update the values\n",
    "food1[\"Tikkie\"]=15\n",
    "food1"
   ]
  },
  {
   "cell_type": "code",
   "execution_count": 301,
   "id": "de5d8114-5178-4767-afa8-d97a6ee6c1a4",
   "metadata": {},
   "outputs": [
    {
     "data": {
      "text/plain": [
       "{'Dates': 50, 'Chocolate': 200, 'Sawayyan': 1000}"
      ]
     },
     "execution_count": 301,
     "metadata": {},
     "output_type": "execute_result"
    }
   ],
   "source": [
    "food2= {\"Dates\":50, \"Chocolate\":200, \"Sawayyan\":1000}\n",
    "food2"
   ]
  },
  {
   "cell_type": "code",
   "execution_count": 307,
   "id": "05acc7fa-766c-4562-8001-a4ba50542f86",
   "metadata": {},
   "outputs": [
    {
     "data": {
      "text/plain": [
       "{'Samosa': 30,\n",
       " 'Raita': 20,\n",
       " 'Pakora': 100,\n",
       " 'Salad': 50,\n",
       " 'Chicken Rolls': 30,\n",
       " 'Tikkie': 15,\n",
       " 'Dates': 50,\n",
       " 'Chocolate': 200,\n",
       " 'Sawayyan': 1000}"
      ]
     },
     "execution_count": 307,
     "metadata": {},
     "output_type": "execute_result"
    }
   ],
   "source": [
    "#Dictionaries concatination is through update function\n",
    "food1.update(food2)\n",
    "food1"
   ]
  },
  {
   "cell_type": "markdown",
   "id": "0b39b6b2-61f6-4c56-9952-efe8d5768e38",
   "metadata": {},
   "source": [
    "## 4- Set\n",
    "- unordered and unindexed\n",
    "- Curly braces are used { }\n",
    "- No duplications allowed"
   ]
  },
  {
   "cell_type": "code",
   "execution_count": 362,
   "id": "b722f159-0f9b-4e32-8d10-89980dbca701",
   "metadata": {},
   "outputs": [
    {
     "data": {
      "text/plain": [
       "{1, 2.2, 5.2, 'Aammar', 'Codanics', 'Faisalabad'}"
      ]
     },
     "execution_count": 362,
     "metadata": {},
     "output_type": "execute_result"
    }
   ],
   "source": [
    "s1= {1, 2.2, 5.2, \"Aammar\", \"Codanics\", \"Faisalabad\", True}\n",
    "s1 #** in sets you cannot add boolean operators, only str/int/float can be shown**"
   ]
  },
  {
   "cell_type": "code",
   "execution_count": 364,
   "id": "eba9ad3b-12ce-4bb2-ae9e-e4bae4b5459c",
   "metadata": {
    "scrolled": true
   },
   "outputs": [
    {
     "data": {
      "text/plain": [
       "{1, 2.2, 5.2, 'Aammar', 'Aammar1', 'Codanics', 'Faisalabad'}"
      ]
     },
     "execution_count": 364,
     "metadata": {},
     "output_type": "execute_result"
    }
   ],
   "source": [
    "# s1.add(\"Aammar\") #due to duplication it will not add in original set s1 in our case\n",
    "s1.add(\"Aammar1\")\n",
    "s1"
   ]
  },
  {
   "cell_type": "code",
   "execution_count": 366,
   "id": "3b60d90c-d10d-47e4-a565-c25d988b5999",
   "metadata": {},
   "outputs": [
    {
     "data": {
      "text/plain": [
       "{2.2, 5.2, 'Aammar', 'Aammar1', 'Codanics', 'Faisalabad'}"
      ]
     },
     "execution_count": 366,
     "metadata": {},
     "output_type": "execute_result"
    }
   ],
   "source": [
    "s1.remove(1)\n",
    "s1"
   ]
  },
  {
   "cell_type": "code",
   "execution_count": 372,
   "id": "b05a9548-58c5-4f39-9dbf-499bc387226a",
   "metadata": {},
   "outputs": [
    {
     "data": {
      "text/plain": [
       "{10, 20, 25}"
      ]
     },
     "execution_count": 372,
     "metadata": {},
     "output_type": "execute_result"
    }
   ],
   "source": [
    "s2={10,20,25}\n",
    "s2"
   ]
  },
  {
   "cell_type": "code",
   "execution_count": 377,
   "id": "04f9dd4a-549b-471f-96af-0a2c19246bcc",
   "metadata": {},
   "outputs": [
    {
     "data": {
      "text/plain": [
       "{10, 2.2, 20, 25, 5.2, 'Aammar', 'Aammar1', 'Codanics', 'Faisalabad'}"
      ]
     },
     "execution_count": 377,
     "metadata": {},
     "output_type": "execute_result"
    }
   ],
   "source": [
    "s1.update(s2)\n",
    "s1"
   ]
  }
 ],
 "metadata": {
  "kernelspec": {
   "display_name": "Python 3 (ipykernel)",
   "language": "python",
   "name": "python3"
  },
  "language_info": {
   "codemirror_mode": {
    "name": "ipython",
    "version": 3
   },
   "file_extension": ".py",
   "mimetype": "text/x-python",
   "name": "python",
   "nbconvert_exporter": "python",
   "pygments_lexer": "ipython3",
   "version": "3.12.4"
  }
 },
 "nbformat": 4,
 "nbformat_minor": 5
}
